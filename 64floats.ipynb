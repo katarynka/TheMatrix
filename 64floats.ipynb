{
 "cells": [
  {
   "cell_type": "markdown",
   "metadata": {},
   "source": [
    "# Understanding floats\n",
    "\n",
    "## Rounding Errors"
   ]
  },
  {
   "cell_type": "markdown",
   "metadata": {},
   "source": [
    "64bit floats will be able to present 16 decimal points. Thus with very large or small numbers we lose some precision"
   ]
  },
  {
   "cell_type": "code",
   "execution_count": 8,
   "metadata": {},
   "outputs": [
    {
     "name": "stdout",
     "output_type": "stream",
     "text": [
      "0.3333333333333333\n",
      "number of digits: 18\n"
     ]
    }
   ],
   "source": [
    "res = 1.0/3.0\n",
    "print(res)\n",
    "print(\"number of digits:\", len(str(res)))\n"
   ]
  },
  {
   "cell_type": "code",
   "execution_count": 1,
   "metadata": {},
   "outputs": [],
   "source": [
    "big_ass_decimal = 0.0928349287459834759384759348759384579384759833\n"
   ]
  },
  {
   "cell_type": "code",
   "execution_count": 2,
   "metadata": {},
   "outputs": [
    {
     "name": "stdout",
     "output_type": "stream",
     "text": [
      "1.8014398509481984e+16\n"
     ]
    }
   ],
   "source": [
    "#Here you see that it will round off to even numbers\n",
    "round_to_even = 18014398509481985.00000000000000\n",
    "print(round_to_even)\n"
   ]
  },
  {
   "cell_type": "code",
   "execution_count": null,
   "metadata": {},
   "outputs": [],
   "source": [
    "\n",
    "\n",
    "print(type(res2))\n",
    "\n",
    "print(len(str(res)))\n",
    "\n",
    "print(len('09283492874598348'))\n",
    "\n",
    "res3 = 2093482058024958093458390485.30230123490234\n",
    "\n",
    "print(res3)\n",
    "\n",
    "print(len('093482058024958'))\n",
    "\n",
    "res4 = 9007199254740992 + 1\n",
    "\n",
    "#Here you see that it will round off to even numbers\n",
    "res5 = 18014398509481985.00000000000000\n"
   ]
  },
  {
   "cell_type": "code",
   "execution_count": null,
   "metadata": {},
   "outputs": [],
   "source": [
    "for i in range(lst):\n",
    "    if float(lst[i]) != float(lst2[i]):\n",
    "        print(lst[i])"
   ]
  },
  {
   "cell_type": "code",
   "execution_count": 11,
   "metadata": {},
   "outputs": [
    {
     "name": "stdout",
     "output_type": "stream",
     "text": [
      "1 0.7328577041625977 s\n",
      "S = 8.078259e-20\n",
      "very_small_elem_count = 49\n",
      "2 0.7371790409088135 s\n",
      "S = 4.0391294e-20\n",
      "very_small_elem_count = 49\n",
      "3 0.7594537734985352 s\n",
      "S = 2.0195647e-20\n",
      "very_small_elem_count = 49\n",
      "4 0.7542726993560791 s\n",
      "S = 1.00978235e-20\n",
      "very_small_elem_count = 49\n",
      "5 0.7915940284729004 s\n",
      "S = 5.0489117e-21\n",
      "very_small_elem_count = 49\n",
      "6 0.7062687873840332 s\n",
      "S = 2.5244559e-21\n",
      "very_small_elem_count = 49\n",
      "7 0.707648515701294 s\n",
      "S = 1.2622279e-21\n",
      "very_small_elem_count = 49\n",
      "8 0.6953945159912109 s\n",
      "S = 6.3111397e-22\n",
      "very_small_elem_count = 49\n",
      "9 0.6929469108581543 s\n",
      "S = 3.1555698e-22\n",
      "very_small_elem_count = 49\n",
      "10 0.7051060199737549 s\n",
      "S = 1.5777849e-22\n",
      "very_small_elem_count = 49\n",
      "11 0.7419607639312744 s\n",
      "S = 7.8889246e-23\n",
      "very_small_elem_count = 49\n",
      "12 0.7480933666229248 s\n",
      "S = 3.9444623e-23\n",
      "very_small_elem_count = 49\n",
      "13 0.7436537742614746 s\n",
      "S = 1.9722311e-23\n",
      "very_small_elem_count = 109\n",
      "14 0.7134132385253906 s\n",
      "S = 9.861156e-24\n",
      "very_small_elem_count = 204\n",
      "15 0.7604672908782959 s\n",
      "S = 4.930578e-24\n",
      "very_small_elem_count = 397\n",
      "16 0.7409045696258545 s\n",
      "S = 2.465289e-24\n",
      "very_small_elem_count = 749\n",
      "17 0.7425858974456787 s\n",
      "S = 1.2326445e-24\n",
      "very_small_elem_count = 1506\n",
      "18 0.7420451641082764 s\n",
      "S = 6.1632223e-25\n",
      "very_small_elem_count = 2979\n",
      "19 0.7333753108978271 s\n",
      "S = 3.0816112e-25\n",
      "very_small_elem_count = 6070\n",
      "20 0.7331063747406006 s\n",
      "S = 1.5408056e-25\n",
      "very_small_elem_count = 12162\n",
      "21 0.7486133575439453 s\n",
      "S = 7.704028e-26\n",
      "very_small_elem_count = 24353\n",
      "22 0.7138166427612305 s\n",
      "S = 3.852014e-26\n",
      "very_small_elem_count = 49019\n",
      "23 0.7102975845336914 s\n",
      "S = 1.926007e-26\n",
      "very_small_elem_count = 98142\n",
      "24 0.7077617645263672 s\n",
      "S = 9.630035e-27\n",
      "very_small_elem_count = 195735\n",
      "25 0.7056708335876465 s\n",
      "S = 4.8150175e-27\n",
      "very_small_elem_count = 390770\n",
      "26 0.7112765312194824 s\n",
      "S = 2.4075087e-27\n",
      "very_small_elem_count = 781114\n",
      "27 0.7132134437561035 s\n",
      "S = 1.2037544e-27\n",
      "very_small_elem_count = 1562117\n",
      "28 0.7202363014221191 s\n",
      "S = 6.018772e-28\n",
      "very_small_elem_count = 3124698\n",
      "29 0.762732744216919 s\n",
      "S = 3.009386e-28\n",
      "very_small_elem_count = 6249389\n",
      "30 0.871896505355835 s\n",
      "S = 1.504693e-28\n",
      "very_small_elem_count = 12499140\n",
      "31 1.0396497249603271 s\n",
      "S = 7.523465e-29\n",
      "very_small_elem_count = 24999883\n",
      "32 1.2709996700286865 s\n",
      "S = 3.7617324e-29\n",
      "very_small_elem_count = 50000432\n",
      "33 1.5266923904418945 s\n",
      "S = 1.8808662e-29\n",
      "very_small_elem_count = 99997497\n",
      "34 1.613694190979004 s\n",
      "S = 9.404331e-30\n",
      "very_small_elem_count = 199984859\n",
      "35 1.663226842880249 s\n",
      "S = 4.7021655e-30\n",
      "very_small_elem_count = 400000000\n",
      "36 1.7408959865570068 s\n",
      "S = 2.3510827e-30\n",
      "very_small_elem_count = 400000000\n"
     ]
    },
    {
     "ename": "KeyboardInterrupt",
     "evalue": "",
     "output_type": "error",
     "traceback": [
      "\u001b[0;31m---------------------------------------------------------------------------\u001b[0m",
      "\u001b[0;31mKeyboardInterrupt\u001b[0m                         Traceback (most recent call last)",
      "\u001b[0;32m/tmp/ipykernel_11794/4227468855.py\u001b[0m in \u001b[0;36m<module>\u001b[0;34m\u001b[0m\n\u001b[1;32m     12\u001b[0m         \u001b[0mi\u001b[0m \u001b[0;34m+=\u001b[0m \u001b[0;36m1\u001b[0m\u001b[0;34m\u001b[0m\u001b[0;34m\u001b[0m\u001b[0m\n\u001b[1;32m     13\u001b[0m         \u001b[0mstart\u001b[0m \u001b[0;34m=\u001b[0m \u001b[0mtime\u001b[0m\u001b[0;34m.\u001b[0m\u001b[0mtime\u001b[0m\u001b[0;34m(\u001b[0m\u001b[0;34m)\u001b[0m\u001b[0;34m\u001b[0m\u001b[0;34m\u001b[0m\u001b[0m\n\u001b[0;32m---> 14\u001b[0;31m         \u001b[0mA\u001b[0m \u001b[0;34m/=\u001b[0m \u001b[0;36m2\u001b[0m\u001b[0;34m\u001b[0m\u001b[0;34m\u001b[0m\u001b[0m\n\u001b[0m\u001b[1;32m     15\u001b[0m         \u001b[0mS\u001b[0m \u001b[0;34m=\u001b[0m \u001b[0mnp\u001b[0m\u001b[0;34m.\u001b[0m\u001b[0msum\u001b[0m\u001b[0;34m(\u001b[0m\u001b[0mA\u001b[0m\u001b[0;34m)\u001b[0m\u001b[0;34m\u001b[0m\u001b[0;34m\u001b[0m\u001b[0m\n\u001b[1;32m     16\u001b[0m         \u001b[0mvery_small_elem_count\u001b[0m \u001b[0;34m=\u001b[0m \u001b[0mnp\u001b[0m\u001b[0;34m.\u001b[0m\u001b[0msum\u001b[0m\u001b[0;34m(\u001b[0m\u001b[0mA\u001b[0m \u001b[0;34m<\u001b[0m \u001b[0;36m2\u001b[0m\u001b[0;34m**\u001b[0m\u001b[0;34m(\u001b[0m\u001b[0;34m-\u001b[0m\u001b[0;36m125\u001b[0m\u001b[0;34m)\u001b[0m\u001b[0;34m)\u001b[0m\u001b[0;34m\u001b[0m\u001b[0;34m\u001b[0m\u001b[0m\n",
      "\u001b[0;31mKeyboardInterrupt\u001b[0m: "
     ]
    }
   ],
   "source": [
    "#!/usr/bin/env python3\n",
    "\n",
    "import numpy as np\n",
    "import time\n",
    "\n",
    "if __name__ == '__main__':\n",
    "    rng = np.random.default_rng(42)\n",
    "    n = 20000\n",
    "    A = rng.random((n,n), dtype=np.float32) / np.float32(1 << 90)\n",
    "    i = 0\n",
    "    while True:\n",
    "        i += 1\n",
    "        start = time.time()\n",
    "        A /= 2\n",
    "        S = np.sum(A)\n",
    "        very_small_elem_count = np.sum(A < 2**(-125))\n",
    "        end = time.time()\n",
    "        print(i,end - start,'s')\n",
    "        print('S =',S)\n",
    "        print('very_small_elem_count =', very_small_elem_count)"
   ]
  }
 ],
 "metadata": {
  "interpreter": {
   "hash": "98296c6fab1f2542c3ee1b453fe7ed304d5710b367ab83c3e921b0c6632a7bad"
  },
  "kernelspec": {
   "display_name": "Python 3.8.8 64-bit ('base': conda)",
   "language": "python",
   "name": "python3"
  },
  "language_info": {
   "codemirror_mode": {
    "name": "ipython",
    "version": 3
   },
   "file_extension": ".py",
   "mimetype": "text/x-python",
   "name": "python",
   "nbconvert_exporter": "python",
   "pygments_lexer": "ipython3",
   "version": "3.8.8"
  },
  "orig_nbformat": 4
 },
 "nbformat": 4,
 "nbformat_minor": 2
}
