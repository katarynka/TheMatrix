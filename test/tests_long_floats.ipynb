{
 "cells": [
  {
   "cell_type": "code",
   "execution_count": 1,
   "metadata": {},
   "outputs": [
    {
     "name": "stdout",
     "output_type": "stream",
     "text": [
      "None\n"
     ]
    }
   ],
   "source": [
    "import numpy as np\n",
    "import sys\n",
    "sys.path.append(\"/home/katarzyna/Documents/school/applied_algo/exam/TheMatrix\")\n",
    "# sys.path.append(\"/home/gustavgyrst/Desktop/AA_Final/TheMatrix\")\n",
    "from matrix_implementations import *\n",
    "from tests import *"
   ]
  },
  {
   "cell_type": "markdown",
   "metadata": {},
   "source": [
    "### Input Generator"
   ]
  },
  {
   "cell_type": "code",
   "execution_count": 3,
   "metadata": {},
   "outputs": [],
   "source": [
    "n1 = 2\n",
    "A1 = generate_floatinput(n1, 0.0723)\n",
    "B1 = generate_floatinput(n1, 0.6492)\n",
    "\n",
    "n2 = 4\n",
    "A2 = generate_floatinput(n2, 0.1029)\n",
    "B2 = generate_floatinput(n2, 0.1238)\n",
    "\n",
    "n3 = 8\n",
    "A3 = generate_floatinput(n3, 0.1264)\n",
    "B3 = generate_floatinput(n3, 0.0031)\n",
    "\n",
    "n4 = 16\n",
    "A4 = generate_floatinput(n4, 0.4301)\n",
    "B4 = generate_floatinput(n4, 0.7510)\n",
    "\n",
    "n5 = 32\n",
    "A5 = generate_floatinput(n5, 0.3029)\n",
    "B5 = generate_floatinput(n5, 0.2356)\n",
    "\n",
    "n6 = 64\n",
    "A6 = generate_floatinput(n6, 0.3465)\n",
    "B6 = generate_floatinput(n6, 0.4672)\n",
    "\n",
    "n7 = 128\n",
    "A7 = generate_floatinput(n7, 0.1234)\n",
    "B7 = generate_floatinput(n7, 0.9351)\n",
    "\n",
    "n8 = 256\n",
    "A8 = generate_floatinput(n8, 0.1873)\n",
    "B8 = generate_floatinput(n8, 0.0001)\n",
    "\n",
    "n9 = 512\n",
    "A9 = generate_floatinput(n9, 0.6201)\n",
    "B9 = generate_floatinput(n9, 0.7329)"
   ]
  },
  {
   "cell_type": "markdown",
   "metadata": {},
   "source": [
    "### Generating transposed B matrix"
   ]
  },
  {
   "cell_type": "code",
   "execution_count": 8,
   "metadata": {},
   "outputs": [],
   "source": [
    "B1t = generate_floatinput(n1, 0.6492)\n",
    "transpose(Matrix(n1,n1,B1t))\n",
    "\n",
    "B2t = generate_floatinput(n2, 0.1238)\n",
    "transpose(Matrix(n2,n2,B2t))\n",
    "\n",
    "B3t = generate_floatinput(n3, 0.0031)\n",
    "transpose(Matrix(n3,n3,B3t))\n",
    "\n",
    "B4t = generate_floatinput(n4, 0.7510)\n",
    "transpose(Matrix(n4,n4,B4t))\n",
    "\n",
    "B5t = generate_floatinput(n5, 0.2356)\n",
    "transpose(Matrix(n5,n5,B5t))\n",
    "\n",
    "B6t = generate_floatinput(n6, 0.4672)\n",
    "transpose(Matrix(n6,n6,B6t))\n",
    "\n",
    "B7t = generate_floatinput(n7, 0.9351)\n",
    "transpose(Matrix(n7,n7,B7t))\n",
    "\n",
    "B8t = generate_floatinput(n8, 0.0001)\n",
    "transpose(Matrix(n8,n8,B8t))\n",
    "\n",
    "B9t = generate_floatinput(n9, 0.7329)\n",
    "transpose(Matrix(n9,n9,B9t))"
   ]
  },
  {
   "cell_type": "markdown",
   "metadata": {},
   "source": [
    "### Calculate the expected output for these numbers with numpy"
   ]
  },
  {
   "cell_type": "code",
   "execution_count": 4,
   "metadata": {},
   "outputs": [],
   "source": [
    "C1expected = np.matmul(A1,B1)\n",
    "C2expected = np.matmul(A2,B2)\n",
    "C3expected = np.matmul(A3,B3)\n",
    "C4expected = np.matmul(A4,B4)\n",
    "C5expected = np.matmul(A5,B5)\n",
    "C6expected = np.matmul(A6,B6)\n",
    "C7expected = np.matmul(A7,B7)\n",
    "C8expected = np.matmul(A8,B8)\n",
    "C9expected = np.matmul(A9,B9)"
   ]
  },
  {
   "cell_type": "markdown",
   "metadata": {},
   "source": [
    "## Elementary matrix multiplication results"
   ]
  },
  {
   "cell_type": "code",
   "execution_count": 9,
   "metadata": {},
   "outputs": [],
   "source": [
    "C1elementary = (elementary_multiplication(Matrix(n1,n1, A1), Matrix(n1,n1,B1))).tolist()\n",
    "C2elementary = (elementary_multiplication(Matrix(n2,n2, A2), Matrix(n2,n2,B2))).tolist()\n",
    "C3elementary = (elementary_multiplication(Matrix(n3,n3, A3), Matrix(n3,n3,B3))).tolist()\n",
    "C4elementary = (elementary_multiplication(Matrix(n4,n4, A4), Matrix(n4,n4,B4))).tolist()\n",
    "C5elementary = (elementary_multiplication(Matrix(n5,n5, A5), Matrix(n5,n5,B5))).tolist()\n",
    "C6elementary = (elementary_multiplication(Matrix(n6,n6, A6), Matrix(n6,n6,B6))).tolist()\n",
    "C7elementary = (elementary_multiplication(Matrix(n7,n7, A7), Matrix(n7,n7,B7))).tolist()\n",
    "C8elementary = (elementary_multiplication(Matrix(n8,n8, A8), Matrix(n8,n8,B8))).tolist()\n",
    "C9elementary = (elementary_multiplication(Matrix(n9,n9, A9), Matrix(n9,n9,B9))).tolist()"
   ]
  },
  {
   "cell_type": "markdown",
   "metadata": {},
   "source": [
    "## Elementary matrix multiplication transposed results"
   ]
  },
  {
   "cell_type": "code",
   "execution_count": 10,
   "metadata": {},
   "outputs": [],
   "source": [
    "C1elementarytransposed = (elementary_multiplication_transposed(Matrix(n1,n1, A1), Matrix(n1,n1,B1t))).tolist()\n",
    "C2elementarytransposed = (elementary_multiplication_transposed(Matrix(n2,n2, A2), Matrix(n2,n2,B2t))).tolist()\n",
    "C3elementarytransposed = (elementary_multiplication_transposed(Matrix(n3,n3, A3), Matrix(n3,n3,B3t))).tolist()\n",
    "C4elementarytransposed = (elementary_multiplication_transposed(Matrix(n4,n4, A4), Matrix(n4,n4,B4t))).tolist()\n",
    "C5elementarytransposed = (elementary_multiplication_transposed(Matrix(n5,n5, A5), Matrix(n5,n5,B5t))).tolist()\n",
    "C6elementarytransposed = (elementary_multiplication_transposed(Matrix(n6,n6, A6), Matrix(n6,n6,B6t))).tolist()\n",
    "C7elementarytransposed = (elementary_multiplication_transposed(Matrix(n7,n7, A7), Matrix(n7,n7,B7t))).tolist()\n",
    "C8elementarytransposed = (elementary_multiplication_transposed(Matrix(n8,n8, A8), Matrix(n8,n8,B8t))).tolist()\n",
    "C9elementarytransposed = (elementary_multiplication_transposed(Matrix(n9,n9, A9), Matrix(n9,n9,B9t))).tolist()"
   ]
  },
  {
   "cell_type": "markdown",
   "metadata": {},
   "source": [
    "## Tiled matrix multiplication results"
   ]
  },
  {
   "cell_type": "code",
   "execution_count": null,
   "metadata": {},
   "outputs": [],
   "source": [
    "C1tiled = (tiled_multiplication(Matrix(n1,n1, A1), Matrix(n1,n1,B1),1)).tolist()\n",
    "C2tiled = (tiled_multiplication(Matrix(n2,n2, A2), Matrix(n2,n2,B2),2)).tolist()\n",
    "C3tiled = (tiled_multiplication(Matrix(n3,n3, A3), Matrix(n3,n3,B3),4)).tolist()\n",
    "C4tiled = (tiled_multiplication(Matrix(n4,n4, A4), Matrix(n4,n4,B4),8)).tolist()\n",
    "C5tiled = (tiled_multiplication(Matrix(n5,n5, A5), Matrix(n5,n5,B5),16)).tolist()\n",
    "C6tiled = (tiled_multiplication(Matrix(n6,n6, A6), Matrix(n6,n6,B6),32)).tolist()\n",
    "\n",
    "C7tiled2 = (tiled_multiplication(Matrix(n7,n7, A7), Matrix(n7,n7,B7),2)).tolist()\n",
    "C7tiled4 = (tiled_multiplication(Matrix(n7,n7, A7), Matrix(n7,n7,B7),4)).tolist()\n",
    "C7tiled8 = (tiled_multiplication(Matrix(n7,n7, A7), Matrix(n7,n7,B7),8)).tolist()\n",
    "C7tiled16 = (tiled_multiplication(Matrix(n7,n7, A7), Matrix(n7,n7,B7),16)).tolist()\n",
    "C7tiled32 = (tiled_multiplication(Matrix(n7,n7, A7), Matrix(n7,n7,B7),32)).tolist()\n",
    "C7tiled64 = (tiled_multiplication(Matrix(n7,n7, A7), Matrix(n7,n7,B7),64)).tolist()\n",
    "\n",
    "\n",
    "C8tiled = (tiled_multiplication(Matrix(n8,n8, A8), Matrix(n8,n8,B8),128)).tolist()\n",
    "C9tiled = (tiled_multiplication(Matrix(n9,n9, A9), Matrix(n9,n9,B9),512)).tolist()"
   ]
  },
  {
   "cell_type": "markdown",
   "metadata": {},
   "source": [
    "## Recursive copying matrix multiplication"
   ]
  },
  {
   "cell_type": "code",
   "execution_count": null,
   "metadata": {},
   "outputs": [],
   "source": [
    "C1rec_copying = ((Matrix(n1,n1, A1), Matrix(n1,n1,B1))).tolist()\n",
    "C2rec_copying = (elementary_multiplication(Matrix(n2,n2, A2), Matrix(n2,n2,B2))).tolist()\n",
    "C3rec_copying = (elementary_multiplication(Matrix(n3,n3, A3), Matrix(n3,n3,B3))).tolist()\n",
    "C4rec_copying = (elementary_multiplication(Matrix(n4,n4, A4), Matrix(n4,n4,B4))).tolist()\n",
    "C5rec_copying = (elementary_multiplication(Matrix(n5,n5, A5), Matrix(n5,n5,B5))).tolist()\n",
    "C6rec_copying = (elementary_multiplication(Matrix(n6,n6, A6), Matrix(n6,n6,B6))).tolist()\n",
    "C7rec_copying = (elementary_multiplication(Matrix(n7,n7, A7), Matrix(n7,n7,B7))).tolist()\n",
    "C8rec_copying = (elementary_multiplication(Matrix(n8,n8, A8), Matrix(n8,n8,B8))).tolist()\n",
    "C9rec_copying = (elementary_multiplication(Matrix(n9,n9, A9), Matrix(n9,n9,B9))).tolist()"
   ]
  }
 ],
 "metadata": {
  "interpreter": {
   "hash": "31f2aee4e71d21fbe5cf8b01ff0e069b9275f58929596ceb00d14d90e3e16cd6"
  },
  "kernelspec": {
   "display_name": "Python 3.7.5 64-bit",
   "language": "python",
   "name": "python3"
  },
  "language_info": {
   "codemirror_mode": {
    "name": "ipython",
    "version": 3
   },
   "file_extension": ".py",
   "mimetype": "text/x-python",
   "name": "python",
   "nbconvert_exporter": "python",
   "pygments_lexer": "ipython3",
   "version": "3.7.5"
  },
  "orig_nbformat": 4
 },
 "nbformat": 4,
 "nbformat_minor": 2
}
