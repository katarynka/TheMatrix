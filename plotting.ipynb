{
 "cells": [
  {
   "cell_type": "code",
   "execution_count": 1,
   "metadata": {},
   "outputs": [],
   "source": [
    "import pandas as pd\n",
    "import numpy as np\n",
    "import matplotlib as plt"
   ]
  },
  {
   "cell_type": "code",
   "execution_count": null,
   "metadata": {},
   "outputs": [],
   "source": [
    "fig = plt.figure ()\n",
    "ax = fig.gca()\n",
    "ax.errorbar(ns, res_cubic [:,0], res_cubic [:,1], capsize = 3.0, marker = 'o')\n",
    "ax.errorbar(ns, res_hashmap [:,0], res_hashmap [:,1], capsize = 3.0, marker = 'o')\n",
    "ax.set_xlabel('Number of elements $n$')\n",
    "ax.set_ylabel('Time (s)')\n",
    "ax.set_yscale('log')\n",
    "ax.legend (['Cubic algorithm ', 'Hash map algorithm '])\n",
    "plt.savefig('test.pdf')"
   ]
  }
 ],
 "metadata": {
  "interpreter": {
   "hash": "98296c6fab1f2542c3ee1b453fe7ed304d5710b367ab83c3e921b0c6632a7bad"
  },
  "kernelspec": {
   "display_name": "Python 3.8.8 64-bit ('base': conda)",
   "language": "python",
   "name": "python3"
  },
  "language_info": {
   "codemirror_mode": {
    "name": "ipython",
    "version": 3
   },
   "file_extension": ".py",
   "mimetype": "text/x-python",
   "name": "python",
   "nbconvert_exporter": "python",
   "pygments_lexer": "ipython3",
   "version": "3.8.8"
  },
  "orig_nbformat": 4
 },
 "nbformat": 4,
 "nbformat_minor": 2
}
