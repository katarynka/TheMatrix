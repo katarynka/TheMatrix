{
 "cells": [
  {
   "cell_type": "markdown",
   "metadata": {},
   "source": [
    "# Plotting\n",
    "## The following file comprises the plots for the various test that we run"
   ]
  },
  {
   "cell_type": "code",
   "execution_count": 93,
   "metadata": {},
   "outputs": [],
   "source": [
    "import sys\n",
    "import numpy as np\n",
    "import matplotlib.pyplot as plt\n",
    "import pandas as pd"
   ]
  },
  {
   "cell_type": "code",
   "execution_count": 94,
   "metadata": {},
   "outputs": [],
   "source": [
    "#which computer is it run on? If you wish to run the following code on new machine please specify the right paths below\n",
    "katarzyna = True"
   ]
  },
  {
   "cell_type": "code",
   "execution_count": 95,
   "metadata": {},
   "outputs": [],
   "source": [
    "\n",
    "if katarzyna:\n",
    "    sys.path.append(\"/home/katarzyna/Documents/school/applied_algo/exam/fresh_copy/TheMatrix\")\n",
    "    path = \"/home/katarzyna/Documents/school/applied_algo/exam/fresh_copy/TheMatrix/\"\n",
    "else:\n",
    "    sys.path.append(\"/home/gustavgyrst/Desktop/AA_Final/TheMatrix\")\n",
    "    path = \"/home/gustavgyrst/Desktop/AA_Final/TheMatrix/\"\n"
   ]
  },
  {
   "cell_type": "markdown",
   "metadata": {},
   "source": [
    "### Path for saving all plots"
   ]
  },
  {
   "cell_type": "code",
   "execution_count": 96,
   "metadata": {},
   "outputs": [],
   "source": [
    "plot_path = \"experiments/Results/plots/\""
   ]
  },
  {
   "cell_type": "markdown",
   "metadata": {},
   "source": [
    "### Define m_list for Strassen's and recursive write through"
   ]
  },
  {
   "cell_type": "code",
   "execution_count": 97,
   "metadata": {},
   "outputs": [],
   "source": [
    "m_list = [0,2,4,8,16,32]"
   ]
  },
  {
   "cell_type": "markdown",
   "metadata": {},
   "source": [
    "## Recursive Write Through m-tests Plotting"
   ]
  },
  {
   "cell_type": "markdown",
   "metadata": {},
   "source": [
    "### Paths and Dataframe creation "
   ]
  },
  {
   "cell_type": "code",
   "execution_count": 98,
   "metadata": {},
   "outputs": [],
   "source": [
    "#insert the relative path\n",
    "relative_path = \"experiments/Results/write_through_m_experiments/\""
   ]
  },
  {
   "cell_type": "code",
   "execution_count": 49,
   "execution_count": 99,
   "metadata": {},
   "outputs": [],
   "source": [
    "name = \"_recursive_write_through_matrix_multiplication_mtest.csv\"\n",
    "\n",
    "recursive_write_through_res = {}\n",
    "\n",
    "for i in range(len(m_list)):\n",
    "    df_name = \"df_m\"+str(m_list[i])\n",
    "    df = pd.read_csv(path + relative_path + str(m_list[i]) + name)\n",
    "    df['res/runtime'] = df.apply(lambda x: (1000000000*x['time']) / x['n']**2.9, axis=1)\n",
    "    \n",
    "    recursive_write_through_res[df_name] = df"
   ]
  },
  {
   "cell_type": "markdown",
   "metadata": {},
   "source": [
    "### Plotting"
   ]
  },
  {
   "cell_type": "code",
   "execution_count": 44,
   "execution_count": 100,
   "metadata": {},
   "outputs": [],
   "source": [
    "df_m0 = recursive_write_through_res['df_m0']\n"
   ]
  },
  {
   "cell_type": "code",
   "execution_count": 39,
   "execution_count": 101,
   "metadata": {},
   "outputs": [
    {
     "data": {
      "text/html": [
       "<div>\n",
       "<style scoped>\n",
       "    .dataframe tbody tr th:only-of-type {\n",
       "        vertical-align: middle;\n",
       "    }\n",
       "\n",
       "    .dataframe tbody tr th {\n",
       "        vertical-align: top;\n",
       "    }\n",
       "\n",
       "    .dataframe thead th {\n",
       "        text-align: right;\n",
       "    }\n",
       "</style>\n",
       "<table border=\"1\" class=\"dataframe\">\n",
       "  <thead>\n",
       "    <tr style=\"text-align: right;\">\n",
       "      <th></th>\n",
       "      <th>n</th>\n",
       "      <th>time</th>\n",
       "      <th>stdv</th>\n",
       "      <th>res/runtime</th>\n",
       "    </tr>\n",
       "  </thead>\n",
       "  <tbody>\n",
       "    <tr>\n",
       "      <th>0</th>\n",
       "      <td>8</td>\n",
       "      <td>0.003188</td>\n",
       "      <td>0.000235</td>\n",
       "      <td>6227.133175</td>\n",
       "    </tr>\n",
       "    <tr>\n",
       "      <th>1</th>\n",
       "      <td>16</td>\n",
       "      <td>0.023497</td>\n",
       "      <td>0.001072</td>\n",
       "      <td>5736.656021</td>\n",
       "    </tr>\n",
       "    <tr>\n",
       "      <th>2</th>\n",
       "      <td>32</td>\n",
       "      <td>0.167470</td>\n",
       "      <td>0.001719</td>\n",
       "      <td>5110.780573</td>\n",
       "    </tr>\n",
       "    <tr>\n",
       "      <th>3</th>\n",
       "      <td>64</td>\n",
       "      <td>1.197075</td>\n",
       "      <td>0.006852</td>\n",
       "      <td>4566.477097</td>\n",
       "    </tr>\n",
       "  </tbody>\n",
       "</table>\n",
       "</div>"
      ],
      "text/plain": [
       "    n      time      stdv  res/runtime\n",
       "0   8  0.003188  0.000235  6227.133175\n",
       "1  16  0.023497  0.001072  5736.656021\n",
       "2  32  0.167470  0.001719  5110.780573\n",
       "3  64  1.197075  0.006852  4566.477097"
      ]
     },
     "execution_count": 39,
     "execution_count": 101,
     "metadata": {},
     "output_type": "execute_result"
    }
   ],
   "source": [
    "df_m0\n"
   ]
  },
  {
   "cell_type": "code",
   "execution_count": 84,
   "execution_count": 102,
   "metadata": {},
   "outputs": [
    {
     "data": {
      "text/plain": [
       "<matplotlib.legend.Legend at 0x7f92c20b1d60>"
      ]
     },
     "execution_count": 84,
     "metadata": {},
     "output_type": "execute_result"
    },
    {
     "data": {
      "image/png": "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",
      "image/png": "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",
      "text/plain": [
       "<Figure size 432x288 with 1 Axes>"
      ]
     },
     "metadata": {
      "needs_background": "light"
     },
     "output_type": "display_data"
    }
   ],
   "source": [
    "\n",
    "fig = plt.figure()\n",
    "ax = fig.gca()\n",
    "\n",
    "for m in m_list:\n",
    "    name = \"df_m\" + str(m)\n",
    "    df = recursive_write_through_res[name]\n",
    "    ax.errorbar(df['n'], df['res/runtime'], capsize = 3.0, marker = 'o')\n",
    "\n",
    "ax.set_yscale('log', base=2)\n",
    "#ax.set_xscale('log', base=2)\n",
    "ax.set_xticks([8,16,32,64])\n",
    "\n",
    "#outside for-loop\n",
    "ax.set_xlabel(\"n\")\n",
    "ax.set_ylabel(\"time (s)\")\n",
<<<<<<< HEAD
    "ax.legend(['m=0', 'm=2', 'm=4', 'm=8', 'm=16', 'm=32'])"
   ]
=======
    "ax.legend(['m=0'])\n",
    "\n",
    "#save plot as pdf\n",
    "plt.savefig(path+plot_path+ \"recursive_write_through_m_experiment_res.pdf\")\n"
   ]
  },
  {
   "cell_type": "markdown",
   "metadata": {},
   "source": [
    "## Strassen's m-tests Plotting"
   ]
  },
  {
   "cell_type": "markdown",
   "metadata": {},
   "source": [
    "### Paths and Dataframe creation "
   ]
  },
  {
   "cell_type": "code",
   "execution_count": 103,
   "metadata": {},
   "outputs": [],
   "source": [
    "#insert the relative path\n",
    "relative_path = \"experiments/Results/strassen_m_experiments/\""
   ]
  },
  {
   "cell_type": "code",
   "execution_count": 104,
   "metadata": {},
   "outputs": [],
   "source": [
    "name = \"_strassen_matrix_multiplication_mtest.csv\"\n",
    "\n",
    "strassens_res = {}\n",
    "\n",
    "for i in range(len(m_list)):\n",
    "    df_name = \"df_m\"+str(m_list[i])\n",
    "    df = pd.read_csv(path + relative_path + str(m_list[i]) + name)\n",
    "    df['res/runtime'] = df.apply(lambda x: (1000000000*x['time']) / x['n']**3, axis=1)\n",
    "    \n",
    "    strassens_res[df_name] = df"
   ]
  },
  {
   "cell_type": "markdown",
   "metadata": {},
   "source": [
    "### Plotting"
   ]
  },
  {
   "cell_type": "code",
   "execution_count": 105,
   "metadata": {},
   "outputs": [
    {
     "data": {
      "image/png": "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",
      "text/plain": [
       "<Figure size 432x288 with 1 Axes>"
      ]
     },
     "metadata": {
      "needs_background": "light"
     },
     "output_type": "display_data"
    }
   ],
   "source": [
    "\n",
    "fig = plt.figure()\n",
    "ax = fig.gca()\n",
    "\n",
    "for m in m_list:\n",
    "    name = \"df_m\" + str(m)\n",
    "    df = strassens_res[name]\n",
    "    ax.errorbar(df['n'], df['res/runtime'], capsize = 3.0, marker = 'o')\n",
    "\n",
    "ax.set_yscale('log', base=2)\n",
    "ax.set_xscale('log', base=2)\n",
    "\n",
    "#outside for-loop\n",
    "ax.set_xlabel(\"n\")\n",
    "ax.set_ylabel(\"time (s)\")\n",
    "ax.legend(['m=0'])\n",
    "\n",
    "#save plot as pdf\n",
    "plt.savefig(path+plot_path+ \"strassen_m_experiment_res.pdf\")"
   ]
>>>>>>> abedf2a07dcedb27128e1191303e3ee3d66febe1
  }
 ],
 "metadata": {
  "interpreter": {
   "hash": "98296c6fab1f2542c3ee1b453fe7ed304d5710b367ab83c3e921b0c6632a7bad"
  },
  "kernelspec": {
   "display_name": "Python 3.8.8 64-bit ('base': conda)",
   "language": "python",
   "name": "python3"
  },
  "language_info": {
   "codemirror_mode": {
    "name": "ipython",
    "version": 3
   },
   "file_extension": ".py",
   "mimetype": "text/x-python",
   "name": "python",
   "nbconvert_exporter": "python",
   "pygments_lexer": "ipython3",
   "version": "3.8.8"
  },
  "orig_nbformat": 4
 },
 "nbformat": 4,
 "nbformat_minor": 2
}
