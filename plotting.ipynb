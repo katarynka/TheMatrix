{
 "cells": [
  {
   "cell_type": "markdown",
   "metadata": {},
   "source": [
    "# Plotting\n",
    "## The following file comprises the plots for the various test that we run"
   ]
  },
  {
   "cell_type": "code",
   "execution_count": 93,
   "metadata": {},
   "outputs": [],
   "source": [
    "import sys\n",
    "import numpy as np\n",
    "import matplotlib.pyplot as plt\n",
    "import pandas as pd"
   ]
  },
  {
   "cell_type": "code",
   "execution_count": 94,
   "metadata": {},
   "outputs": [],
   "source": [
    "#which computer is it run on? If you wish to run the following code on new machine please specify the right paths below\n",
    "katarzyna = True"
   ]
  },
  {
   "cell_type": "code",
   "execution_count": 95,
   "metadata": {},
   "outputs": [],
   "source": [
    "\n",
    "if katarzyna:\n",
    "    sys.path.append(\"/home/katarzyna/Documents/school/applied_algo/exam/fresh_copy/TheMatrix\")\n",
    "    path = \"/home/katarzyna/Documents/school/applied_algo/exam/fresh_copy/TheMatrix/\"\n",
    "else:\n",
    "    sys.path.append(\"/home/gustavgyrst/Desktop/AA_Final/TheMatrix\")\n",
    "    path = \"/home/gustavgyrst/Desktop/AA_Final/TheMatrix/\"\n"
   ]
  },
  {
   "cell_type": "markdown",
   "metadata": {},
   "source": [
    "### Path for saving all plots"
   ]
  },
  {
   "cell_type": "code",
   "execution_count": 96,
   "metadata": {},
   "outputs": [],
   "source": [
    "plot_path = \"experiments/Results/plots/\""
   ]
  },
  {
   "cell_type": "markdown",
   "metadata": {},
   "source": [
    "### Define m_list for Strassen's and recursive write through"
   ]
  },
  {
   "cell_type": "code",
   "execution_count": 97,
   "metadata": {},
   "outputs": [],
   "source": [
    "m_list = [0,2,4,8,16,32]"
   ]
  },
  {
   "cell_type": "markdown",
   "metadata": {},
   "source": [
    "## Recursive Write Through m-tests Plotting"
   ]
  },
  {
   "cell_type": "markdown",
   "metadata": {},
   "source": [
    "### Paths and Dataframe creation "
   ]
  },
  {
   "cell_type": "code",
   "execution_count": 98,
   "metadata": {},
   "outputs": [],
   "source": [
    "#insert the relative path\n",
    "relative_path = \"experiments/Results/write_through_m_experiments/\""
   ]
  },
  {
   "cell_type": "code",
   "execution_count": 49,
   "execution_count": 99,
   "metadata": {},
   "outputs": [],
   "source": [
    "name = \"_recursive_write_through_matrix_multiplication_mtest.csv\"\n",
    "\n",
    "recursive_write_through_res = {}\n",
    "\n",
    "for i in range(len(m_list)):\n",
    "    df_name = \"df_m\"+str(m_list[i])\n",
    "    df = pd.read_csv(path + relative_path + str(m_list[i]) + name)\n",
    "    df['res/runtime'] = df.apply(lambda x: (1000000000*x['time']) / x['n']**2.9, axis=1)\n",
    "    \n",
    "    recursive_write_through_res[df_name] = df"
   ]
  },
  {
   "cell_type": "markdown",
   "metadata": {},
   "source": [
    "### Plotting"
   ]
  },
  {
   "cell_type": "code",
   "execution_count": 44,
   "execution_count": 100,
   "metadata": {},
   "outputs": [],
   "source": [
    "df_m0 = recursive_write_through_res['df_m0']\n"
   ]
  },
  {
   "cell_type": "code",
   "execution_count": 39,
   "execution_count": 101,
   "metadata": {},
   "outputs": [
    {
     "data": {
      "text/html": [
       "<div>\n",
       "<style scoped>\n",
       "    .dataframe tbody tr th:only-of-type {\n",
       "        vertical-align: middle;\n",
       "    }\n",
       "\n",
       "    .dataframe tbody tr th {\n",
       "        vertical-align: top;\n",
       "    }\n",
       "\n",
       "    .dataframe thead th {\n",
       "        text-align: right;\n",
       "    }\n",
       "</style>\n",
       "<table border=\"1\" class=\"dataframe\">\n",
       "  <thead>\n",
       "    <tr style=\"text-align: right;\">\n",
       "      <th></th>\n",
       "      <th>n</th>\n",
       "      <th>time</th>\n",
       "      <th>stdv</th>\n",
       "      <th>res/runtime</th>\n",
       "    </tr>\n",
       "  </thead>\n",
       "  <tbody>\n",
       "    <tr>\n",
       "      <th>0</th>\n",
       "      <td>8</td>\n",
       "      <td>0.003188</td>\n",
       "      <td>0.000235</td>\n",
       "      <td>6227.133175</td>\n",
       "    </tr>\n",
       "    <tr>\n",
       "      <th>1</th>\n",
       "      <td>16</td>\n",
       "      <td>0.023497</td>\n",
       "      <td>0.001072</td>\n",
       "      <td>5736.656021</td>\n",
       "    </tr>\n",
       "    <tr>\n",
       "      <th>2</th>\n",
       "      <td>32</td>\n",
       "      <td>0.167470</td>\n",
       "      <td>0.001719</td>\n",
       "      <td>5110.780573</td>\n",
       "    </tr>\n",
       "    <tr>\n",
       "      <th>3</th>\n",
       "      <td>64</td>\n",
       "      <td>1.197075</td>\n",
       "      <td>0.006852</td>\n",
       "      <td>4566.477097</td>\n",
       "    </tr>\n",
       "  </tbody>\n",
       "</table>\n",
       "</div>"
      ],
      "text/plain": [
       "    n      time      stdv  res/runtime\n",
       "0   8  0.003188  0.000235  6227.133175\n",
       "1  16  0.023497  0.001072  5736.656021\n",
       "2  32  0.167470  0.001719  5110.780573\n",
       "3  64  1.197075  0.006852  4566.477097"
      ]
     },
     "execution_count": 39,
     "execution_count": 101,
     "metadata": {},
     "output_type": "execute_result"
    }
   ],
   "source": [
    "df_m0\n"
   ]
  },
  {
   "cell_type": "code",
   "execution_count": 84,
   "execution_count": 102,
   "metadata": {},
   "outputs": [
    {
     "data": {
      "text/plain": [
       "<matplotlib.legend.Legend at 0x7f92c20b1d60>"
      ]
     },
     "execution_count": 84,
     "metadata": {},
     "output_type": "execute_result"
    },
    {
     "data": {
      "image/png": "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",
      "image/png": "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",
      "text/plain": [
       "<Figure size 432x288 with 1 Axes>"
      ]
     },
     "metadata": {
      "needs_background": "light"
     },
     "output_type": "display_data"
    }
   ],
   "source": [
    "\n",
    "fig = plt.figure()\n",
    "ax = fig.gca()\n",
    "\n",
    "for m in m_list:\n",
    "    name = \"df_m\" + str(m)\n",
    "    df = recursive_write_through_res[name]\n",
    "    ax.errorbar(df['n'], df['res/runtime'], capsize = 3.0, marker = 'o')\n",
    "\n",
    "ax.set_yscale('log', base=2)\n",
    "#ax.set_xscale('log', base=2)\n",
    "ax.set_xticks([8,16,32,64])\n",
    "\n",
    "#outside for-loop\n",
    "ax.set_xlabel(\"n\")\n",
    "ax.set_ylabel(\"time (s)\")\n",
<<<<<<< HEAD
    "ax.legend(['m=0', 'm=2', 'm=4', 'm=8', 'm=16', 'm=32'])"
   ]
=======
    "ax.legend(['m=0'])\n",
    "\n",
    "#save plot as pdf\n",
    "plt.savefig(path+plot_path+ \"recursive_write_through_m_experiment_res.pdf\")\n"
   ]
  },
  {
   "cell_type": "markdown",
   "metadata": {},
   "source": [
    "## Strassen's m-tests Plotting"
   ]
  },
  {
   "cell_type": "markdown",
   "metadata": {},
   "source": [
    "### Paths and Dataframe creation "
   ]
  },
  {
   "cell_type": "code",
   "execution_count": 103,
   "metadata": {},
   "outputs": [],
   "source": [
    "#insert the relative path\n",
    "relative_path = \"experiments/Results/strassen_m_experiments/\""
   ]
  },
  {
   "cell_type": "code",
   "execution_count": 106,
   "metadata": {},
   "outputs": [],
   "source": [
    "name = \"_strassen_matrix_multiplication_mtest.csv\"\n",
    "\n",
    "strassens_res = {}\n",
    "\n",
    "for i in range(len(m_list)):\n",
    "    df_name = \"df_m\"+str(m_list[i])\n",
    "    df = pd.read_csv(path + relative_path + str(m_list[i]) + name)\n",
    "    df['res/runtime'] = df.apply(lambda x: (1000000000*x['time']) / x['n']**2.74, axis=1)\n",
    "    \n",
    "    strassens_res[df_name] = df"
   ]
  },
  {
   "cell_type": "markdown",
   "metadata": {},
   "source": [
    "### Plotting"
   ]
  },
  {
   "cell_type": "code",
   "execution_count": 115,
   "metadata": {},
   "outputs": [
    {
     "data": {
      "image/png": "iVBORw0KGgoAAAANSUhEUgAAAYMAAAEKCAYAAADw2zkCAAAAOXRFWHRTb2Z0d2FyZQBNYXRwbG90bGliIHZlcnNpb24zLjUuMCwgaHR0cHM6Ly9tYXRwbG90bGliLm9yZy8/fFQqAAAACXBIWXMAAAsTAAALEwEAmpwYAAAw9klEQVR4nO3de5ysdWHn+c+v7re+d59b98FzuAqIGeLBqIy7XhLIZUTWYRwzbpIxuqwZdwZY1x2JiTLuSDIvd3VMTGLI4mxwYBIERkTwFoUExKCABAJHQBClz+nj6XvXvep56rd/PE/duqv6dqq6+3R9369Xvfqp53mq6ten+vy+v8tzMdZaRESktwW2uwAiIrL9FAYiIqIwEBERhYGIiKAwEBERFAYiIgKEtrsAmzE6OmoPHTq03cUQETmtPPbYYzPW2rFW207LMDh06BCPPvrodhdDROS0Yoz5SbttGiYSERGFgYiIKAxERASFgYiIcJpOIMvu8aUfHOOTX3+W4wt5DgzG+dDl53HlxePbXSyRnqMwkG3zpR8c4/q7niJfdgE4tpDn+rueAlAgiGwxhYFsqZJTIVN0yBYdbrzvaC0IqvJllxvvO8rrzxohHgmSCAcJBTWaKdLtXrTCQNZUqVhyZZdMwSFT9B8Fh0yxTNpfly06pGvrvZ9pf33j85JTWfPzTqaL/MKN36o9jwQDJKJeMMQjQRKREIlI0H+EiEeCJCNB4svWJyLV/Ztf4+0fIh4OEgiYbv7TiXTEVvSiFQa7WGMrPF2ryOsVeKbQohL3922sxDMlh/XcAykSCtAXDZGKhUhFvcf+gRhJfzkVC3nboyFSsTA33vcMc9nyivcZSoT5Py4/j3zJJVd7OORKrr/OIVtymcmUyJVy5EsuWX9byV07bBrFwoFlQREiEQ6SjNaX4xHvecIPkEQkSCLqbauFS7RhWyRELBzAGAWNtFapWEpuhZJboexUKLuWkuM/dyuUHP+nv/zxrzzTshf9ya8/e/qGgTHmTOAjwIC19ip/XRL4W+AGa+1XtrpMO8lWt8KNgVSkoQKPheiLeZV4UwUeC5GKhklGg/T5y6loyF8OkYyGiIQ2NpwTCpim1g5APBzkY2+7cNN/4I5bIVd2yRUbAqTski069XApu+SK9W25kuPv723LlxyOL5Tr2/zXuZX13xXQGPwgaeytrL8nk/T3a7U9Euxu0Jzuk/rWWpyKpexWKDuWoutSdi1lp1651itcb7+iv665Ira15er65sraNr1ffZ/6Z5X9yr607DUb+VtazfGFfEfeB7oYBsaYg8AtwF7AAjdZaz9jrX0ReK8x5o6G3f89cHu3ygLd/wOvtsKbKvEtboXv6481V+oNrfBUNOhV4P72aiW+nUMl1X//Tn4voWCA/mCA/li4U8UEvAqm5FYaeiv1kPB6Jo09Fy9Qsg3LjT2cmUzRDyh/W9ld13deFQyY5nBZ1pPxei6r92RaDbUlIkHufXJqzeGISsVSrjRXpi1btY5taPkuqxAdd/XKdNn6emVtV7SaG9dXy9Dpu/ka4w1XRkIBIsEAYX85HDSEgwGiIW9dOBggEaluN7V9w/7rGl+z8r28bY3vVV3//v/6GNPp4opyHRiMd+537NY9kI0x+4H91trHjTF9wGPAldbaZ/ztd1hrrzLG/BIwAsSAmfX0DI4cOWI3cm2i5eNt4LVAb7zyVfzSq/bVWt6ZoruiFV6toJe3wjMFh2zp1Fvh1Yq8261w2bmstRSdCtmm3kq991LtrWSLbnNvpVjflqsNlTlNAVUob2zYrB1jvP8zJaeC06FWbaNqBdlcSZqGSrL1+khTRVrdxzRXsKEA0WCAcMjUXtNcObevhKv7BLd5bqldHfYH77hoQ40nY8xj1tojrbZ1rWdgrZ0CpvzltDHmKDAOPLNs1zcBSeACIG+Muc9a25m/YN8nv/5sy/G26774D/DFf1jz9e3Gwlu1wpO1Sru5FZ70W2aasJTljDHEwkFi4SAjHX7vSsXWw6VFb2Z5T+dT33yu5ftYC+/+hTOaK95llWmrlq7XOg42VcT1bX4rORDQ/4s1dKMXvdyWzBkYYw4BFwOPGGNGgE8AFxtjrrfWfsTf51/j9QxaBoEx5mrgaoAzzjhjQ5+/2rja7/7qK2sTnGqFy24TCBiS/t8xRNfc/6+//zLHWvx/GR+M85Ffu6ALJZT1uvLi8a7O3XQ9DIwxKeBO4Fpr7ZK/+v3L97PW/n+rvY+19ibgJvCGiTZShgOD8bZ/4Ff/D2dt5K1EdrUPXX5ey+GID11+3jaWSrZCV5u8xpgwXhDcaq29q5uftZoPXX4e8XCwaZ3+wEVWuvLicf7gHRcxPhjH4DWYNjouLaenbh5NZICbgaPW2k9163PWYyvG20R2i24PR8jO1M1hokuB3wCeMsY84a/7XWvtfV38zLb0By4i0l43jyZ6CNAhAiIipwEdJiMiIgoDERFRGIiICAoDERFBYSAiIigMREQEhYGIiKAwEBERFAYiIoLCQEREUBiIiAgKAxERQWEgIiIoDEREBIWBiIigMBARERQGIiKCwkBERFAYiIgICgMREUFhICIiKAxERASFgYiIoDAQEREUBiIigsJARERQGIiICAoDERFBYSAiIigMREQEhYGIiKAwEBERFAYiIoLCQEREUBiIiAgKAxERQWEgIiIoDEREBIWBiIigMBAREbYhDIwxZxpjbjbG3OE/P98Y8zljzB3GmN/Z6vKIiEgXw8AYc9AYc78x5hljzNPGmGsArLUvWmvfW93PWnvUWvt+4J3Apd0qj4iItNfNnoEDfNBaewHwOuADxpgLWu1ojLkCuBe4r4vlERGRNroWBtbaKWvt4/5yGjgKjLfZ98vW2l8B3t3u/YwxVxtjHjXGPDo9Pd2VMouI9KrQVnyIMeYQcDHwiDFmBPgEcLEx5nrgu8A7gCir9AystTcBNwEcOXLEdrvMIiK9pOthYIxJAXcC11prl/zV71+22wPdLoeIiLTX1aOJjDFhvCC41Vp7Vzc/S0RENq+bRxMZ4GbgqLX2U936HBEROXXd7BlcCvwG8BZjzBP+41e7+HkiIrJJXZszsNY+BJhuvb+IiHSOLkchIiIKAxERURiIiAgKAxERQWEgIiIoDEREBIWBiIigMBARERQGIiKCwkBEROilMHjydvj0q+CGQe/nk7dvd4lERHaMLbm5zbZ78na4599BOe89X3zZew7w6nduX7lERHaI3ugZfOvj9SCoKufha9fDzI/AdbanXCIiO0Rv9AwWJ1uvz83AZ18DgTCMnAWj58LYed7P0XNh9ByIJLe2rCIi26A3wmBgwhsaWi61B37xP8D0szDzPJx8Bn54L1i34bUH6+Ewdi6M+mGRHAWjK3SLyO7QG2Hw1o82zxkAhONw2SdWzhk4RZj7Mcw8C9PPwcxz3vLj34Vyrr5ffMgPhnP83oS/PHgGBIJb83uJiHRIb4RBtcL/1se9IaOBCS8gWk0eh6Kw55Xeo1GlAkvHvGCYed7vTTwHz30NfvCFhtfHYOTshiGnc7ygGDkbwrHu/Y4iIqfAWGu3uwwbduTIEfvoo49udzHqcnN+D+K5+pDTzLMw/xOg+u9rYOgVrXsTieHtLL2I9AhjzGPW2iOttvVGz6DbEsNwxuu8R6NyHmZfWDbk9By8+AC4xfp+ybFlIeHPUQxMaF5CRLaEwqCbwnHY9yrv0ajiwsJPl/UmnoOn/zsUFhpen/SHmaqT1/4E9vCZEIps6a8iIrvbmmFgjJkA3gW8ETgA5IF/BO4FvmqtrXS1hLtRIAjDh73HuZfX11sL2Rl/XuK5em/ip9+FpxrOmDb+60fPaw6J0XMg1r/1v4+InPZWDQNjzH8BxoGvAP8JOAnEgHOBXwY+Yoz5sLX277pd0J5gDKTGvMehf9q8rZiB2R819yRmnoPnvwGVcn2/vv0Nh8I2DDn17dOQk4i0tVbP4P+x1v5ji/X/CNxljIkAZ3S+WLJCNAUH/on3aOQ6MP/Sst7Es/DkX0NxqeH1/a3Plxg6BEGNFor0ug0fTWSMGQIOWmuf7E6R1rbjjibaiayF9ImV8xIzz0F6qr6fzr4W6RmnfDSRMeYB4Ap//8eAk8aYh62113WslNJZxkD/fu9x5v/YvK2w6F2TaebZ9Z193Xi+hM6+FtmV1js+MGCtXTLGvA+4xVr7MWPMtvUM5BTFBmDiNd6jkVOCuRdXDjk9prOvRXa79YZByBizH3gn8JEulke2UyiyxtnXy06s68TZ10/evr4zw0Wkq9YbBh8Hvg48ZK39vjHmTOD57hVLdpRAAAYPeo+z39q8LTdXP+O62ps4/rh3zkSrs68bD4U9+Qx8/XrdZ0JkB9g1l6Mol8tMTk5SKBS2qVRbJxaLMTExQTgc3u6itFcu+IfCLruW08zzzWdft5IYgX91u3c4bGovBHfw7ylyGtn0BLIx5veAP7XWzrXZ/hYgYa39yqkX89RMTk7S19fHoUOHMLt4ctNay+zsLJOTkxw+fHi7i9NeOLbG2dfPw23/ovVrc7Pw/1Z7IMa7XEffPu8cir590H+g+XnfAS9AAr1xryaRblhrmOgp4B5jTAF4HJjGO+nsHOCfAH8D3NjNAq5XoVDY9UEAYIxhZGSE6enp7S7K5jSefT1wsM19JvbCFZ+F9HHv8Nj0lPdz6Tgc/wFkp6kPQVXfNwSpfX44tAmMvn3e5Pku/xsR2YxVw8BaezdwtzHmHOBSYD+wBPxX4GprbX6112+13R4EVbvm92x7n4n/COde1v51bhkyJ/2QmKoHxpL/fPYFeOmh5us8VYXibcJif/NyJNHxX1dkJ1vXBLK19nk0YSydtpH7TDQKhmFg3HusppSDzImVYZH21x3/ASzdB06LNk10wDtHo1XvovZ8n+YzZNfQdQh2oK997Wtcc801uK7L+973Pj784Q9vd5G659Xv7N6RQ5GEd4XX4TPb72Otd9mO6jBUbViqITheeshbrjgrX980n7Gsd1HtgSRGNZ8hO17PhsGXfnCMT379WY4v5DkwGOdDl5/HlRev0dLcAq7r8oEPfIBvfvObTExMcMkll3DFFVdwwQUXbHfRdidjvHmE2IB3bkQ7lYo3sV3rWSybz0hPwfEnVpnP2Nt6OKq/4XlsUPMZsm16Mgy+9INjXH/XU+TL3qUXji3kuf6upwBOKRBeeuklfvmXf5nXve51PPzww1xyySW85z3v4WMf+xgnT57k1ltv5bWvfe2q7/G9732Ps88+mzPP9Fqz73rXu7j77rsVBtstEKhfUXb/q9vv14n5jHZhUf2pa0b1pi6foLneaxOdC/wZsNda+ypjzKuBK6y1/7FjJemg/3DP0zxzfKnt9h/8dIGS23wbhnzZ5f+840n+2/d+2vI1Fxzo52Nvu3DNz/7Rj37EF7/4RT7/+c9zySWXcNttt/HQQw/x5S9/mRtvvJFrrrmG665beUmnRCLBww8/zLFjxzh48GBt/cTEBI888sianys7RKfmM6aegGe/2n4+ozpn0TIw9ns9kc3eAElnhe88T97efLBFF07QXG/P4C+ADwF/DmCtfdIYcxuwI8NgLcuDYK31G3H48GEuuugiAC688ELe+ta3Yozhoosu4qWXXuLNb34zTzzxxCl/jpzmTmk+o2GY6iffaT+fkRhtCItWR07t9y462Hg9qS2odHYMa8FWvHNfrOv9G1bcNutcb6hwXeuq77Gedf7PtdZ9/y+aj7oD7/m3Pr7lYZCw1n5v2SGNLf76doa1WvCX/uG3ObawssU1Phjnr//X15/SZ0ej0dpyIBCoPQ8EAjiOw/33379qz2B8fJyXX64fez85Ocn4+PbPZcg22PR8xtTKYap28xkm6PUiqr2LFx9oXel87cNgApuvzNqucxoq1C1ed1rcpNF4Yd0q7MHrvXXIesNgxhhzFv5fkjHmKmBq9ZfsXB+6/LymOQOAeDjIhy5f5T9ch6zVM7jkkkt4/vnn+fGPf8z4+Dh/9Vd/xW233db1cslpbMPzGS0mwJeOe/MZpUzr1+Zm4c73brJ8IS90AkH/Z2Cd65Ytm6C3Tyi6vv0CgYbtofrnrGtd0Au/da1rV4b1rmtX1mD9gIJPv6r1CZoDE5v7TlpYbxh8ALgJeKUx5hjwY+B/3uyH+he6+wjepbGvMsZcCfwa0A/cbK39xmbfez2qk8Q78WiiUCjEZz/7WS6//HJc1+W3f/u3ufDCtecqRNbUNJ/xmtb7tKt0Uvvgt+7ZRCWpQ2o7ot0Jmm/9aMc+YkMXqjPGJIGAtTa9zv0PArcAe/F6FTdZaz/TsP0Oa+1VDc+HgP/bWrtqE6TVheqOHj3K+eefv+7f5XTXa7+vbJHlcwbgVTpv+6PdN2dwuunAxH4n7nQ2CPwmcAjv3gYAWGv/3RovdYAPWmsfN8b0AY8ZY75prX2mzf6/B/zJesokIl2w2bPCpfu6eYIm6x8mug/4e7wL16171sVaO4U/t2CtTRtjjgLjQFMYGC9d/hD4qrX28VbvZYy5Grga4IwzzlhvEURko7pc6cjOtN4wiFlr//dT+SBjzCHgYuARY8wI8AngYmPM9UAW+EVgwBhztrX2c8tfb629CW/egiNHjrQc27LW7p6LuK3idLwHhYjsbOsNgy8YY/4X4CtA7c4k7e5zsJwxJgXcCVxrra2eDfb+Zbv90TrL0lIsFmN2dpaRkZFdHQjV+xnEYm1uIykisgnrDYMS8Em8I4CqzVILrHLGjMcYE8YLgluttXdtppDrMTExweTk5Ol7nf8NqN7pTESkU9YbBh8EzrbWzmzkzf25gJuBo9baT220cBsRDod39p2/RER2sPUeBPwjILeJ978U+A3gLcaYJ/zHr27ifUREpIvW2zPIAk8YY+6nec5g1UNLrbUPAbt3AF9EZJdYbxh8yX+IiMgutN7bXv5ltwsiIiLbZ9UwMMbcbq19pzHmKVZc7hCstatcFUtERE4Xa/UMrvF//rNuF0RERLbPqkcT+ZeTAPg31tqfND6Af9P94omIyFZY76Glv9Ri3a90siAiIrJ91poz+B28HsCZxpgnGzb1Ad/pZsFERGTrrDVncBvwVeAPgA83rE+v97pEIiKy860aBtbaRWAR+PWtKY6IiGwH3ZNOREQUBiIiojAQEREUBiIigsJARERQGIiICAoDERFBYSAiIigMREQEhYGIiKAwEBERFAYiIoLCQEREUBiIiAgKAxERQWEgIiIoDEREBIWBiIigMBARERQGIiKCwkBERFAYiIgICgMREUFhICIiKAxERASFgYiIoDAQEREUBiIigsJARERQGIiICNsQBsaYM40xNxtj7mj1XEREtl7XwsAYc9AYc78x5hljzNPGmGsArLUvWmvfW91v+XMREdl6oS6+twN80Fr7uDGmD3jMGPNNa+0zXfxMERHZhK71DKy1U9bax/3lNHAUGO/W54mIyOZtyZyBMeYQcDHwiDFmxBjzOeBiY8z1y5+v8h5XG2MeNcY8Oj09vRXFFhHpGcZa290PMCYF/C3wCWvtXZ14zyNHjthHH320E28lItIzjDGPWWuPtNrW1Z6BMSYM3Anc2qkgEBGRzuvm0UQGuBk4aq39VLc+R0SkF9z74r1cdsdlvPovX81ld1zGvS/e29H372bP4FLgN4C3GGOe8B+/2sXPExHZle598V5uePgGprJTWCxT2SluePiGjgZC1w4ttdY+BJhuvb+IyG5RsRXSpTQLxQUWigssFheZL8zXlm89eisFt9D0moJb4DOPf4ZfO/PXOlKGbp5nsKMs3nMPJz/9n3Gmpgjt38+e665l4G1v2+5iicguU66UWSwuslhc9Cr3wkJzJV+cb6rwF4uLLJYWqdhKy/cLmiCudVtuO5E90bFy90QYLN5zD1O//1FswUtW5/hxpn7/owAKBBFpq+AUahX3QnGB+eI8i4XFWuW+vCW/WFwkXU63fb9IIMJgbJDBqPc4d+hcBqODDEQHGIoN1Zej/nJsgL5wH5ffeTlT2akV77cvua9jv2tPhMHJT//nWhBU2UKBqd/7ffJP/APhgxNEDh4kPHGQyMQ4gWRym0oqIt1grSXn5GoVdq1iry43rK+23heLi+SdfNv3TIaTtcp7MDrIwb6DtUq+WuE3VezRAeKhON6xNRtzzc9fww0P39A0VBQLxrjm56/Z1L9HKz0RBs7UykQFsMUii1/6EpVstml9cHjYC4iJg/WgGJ8gcnCC0L59mGBwK4otsi2OPng/D/7VLaRnZ+gbGeWN7/pNzn/jm7e7WDXV8fXGMfV2FXvjw6k4Ld/PYOiP9tcq7D2JPZwzdM6Kir3xMRAdIBKMbNnvXJ0X+Mzjn+FE9gT7kvu45uev6dh8AWzBSWfdsNGTzp5/y1txjh9fsT504ABnf+tvcBcWKE9OUn75ZUqTx/yfL1N+eZLy1BS4DeN14TDhA/u9oJjwAiLcEBrB/v5O/Ioi2+Log/fzjZs+i1Mq1taFIlEuu/p/60ogVMfXq+Pq7cbUGyv1pdJS2/H1kAnVWurLh16aKvSGCr4/0k8w0BsNvNVOOuuJnsGe665tmjMAMLEYe667FmMMoaEhQkNDxC+6aMVrbblM+cQJypOTlF72AqIaFIWnn8ZdWGjaP9DfT2RigvDBg/WgqIbG/v2YyNa1JkTW4pRKZOZmSc/NkJmd4Vuf/1xTEHj7FPmbm/+UhZ+dIJpMEUsmiSaT3nIiSTSVIpZI4QQti6WGirvdxGmh3pLPlDNtyxYNRpsq8POGz2tdsTdU7qlwalPDMNIjPQPo3tFEbjrdFBTlY5OUXvZ6GeVjx7Dlcn3nQIDwvn2EDx4kPDFen6c46IVHcGhIf8jSMaV8jvRsvaKvVfpzs6RnZ0jPzVJIL63rvSxrHyfuGkspXKEUqng/q49QhUosSCgWJZxIEE0miaf6SPUNkuobYrB/lOGBMQYTwwxGBxmKDdXG16WzVusZ9EwYbAfrujgnT/phMUl58uVaUJSOTeJOzzTtbxKJeq+iqXcxQXh8nEAstk2/iewk1loKmXRDi977mfYr/GplX8rnVrw2kkoSGkhh+mK4yRDFBGRjDovhArOhNIe/sUSysHLAIBNzuPNNx4g6QYZNPyP0M2CT9NsEyUqUhBMh5gYJlw2hEpiiiy2UqRRKlHM5itksFbf14ZFV4WjM72V4vY5oMknM/xlNpGrLy39GEyki8c1NzPaanh8mAu8Mvm5OvrRigkHC+/cT3r+fxCWXrNheyeUoHztWD4rJSa938dOfkP3Od1YcARXas6ceFBMTTUdBhcZGMQHdxfR0ZysVckuLfsvdr9z9Vnymum52Fqdcan6hgWAqju2LUk4EyJ8dIRM1zIdzzITS/Cy4SD7q4C4bGg+ZEMOxYUbiIwzHhnn0vJ9w6VMjhCr1vyUnUOHx8xb4u19/kL5I36bG1621OMUihVyGYiZDIZelmM1SzGYo+D+LuYblbJb0zDQzP32JQibTMtiafn0TaA6I6hBWdTmZag4Yf1t1fSgc3vDvtNv0RBhUT+WuHpZVPZUb6HogrCaQSBA95xyi55yzYpu1Fnd21ht+ahyGmpwk+73v4Xz5y9DQqzPRKOHx8ZVHQU1MEB6fIJjS4bLbzXUcsgvzZOZmSM/O+j/9in5ulvTsNJn5OezyFnTA4CZDlBKGXMxl6XCRuVCWpWiJXMwhG3PJR12sX3/3R/oZjg37lfw4h6rLsRGG48O1bcOxYfoj/U0t6ssWL+M7zPKaZ4dIFoJkYy6PnTdP4dwBBmODm/7djTGEYzHCsRh9w6Mbfn2l4lLK5SlkM36AZCjmshQy3s9iNlvbVsx6YZOZm60Fy4rwXCYUibYJioZ1/txIPWD8Hkw8sSsaYj0xTHTZHZe1PGEjHAjz2n2vJRlOkoqkSIW9R/V5Mpz01kUa1odTJMIJAmZ7v/xKqUT52DHvKKjJ+jxFyT8qqpJpnphrOly24SgoHS7bGcsnYtP+8vz0CZZmT5Kdm6eUTnuD7w0qQSgkIBMtsxQtkou55KIO2bhLLuaSjTm4sSAjiZGmSnwkPuJV7rHhFY9wcPOt3OUNJ/COZ7/hDTdsa8PpVDmlUkN4ZBrCI1sLllrINK7LZCjmctg2Ry8BYAzReGJFzyOWWtkDabUtFImua4irE4f89vwwUbtTtsuVMkulJY5nj5MtZcmUM+Sc1bujVbWgCKdIRpJNYbE8PKrbaw8/aBKhxKYPaQtEIkQPHyZ6+PCKbdZaKouLK+YpyscmyT/5JEtf+1rz4bKhEOEDB9oeBRUcGNhUGXeLUj7nD9PMMj8zxfTPJpmfOcHS7DT5hUXKi2lsbmXLsxSqkI05XqXe75Lb47XiczGHYH+C2OAAAwMjDPtDNIeXteCrlX0ynNyy8fCtOJ59O4QiEUKRCMnBoQ2/1lYqlAqFhrDwh7n8Xkl9aKveY1k4cbwWLOViYdX3D4ZCfpDUj86KJpL1nkciyfzUMY4+eD+u450rkZ6Z5hs3fRagY4f89nTPYH9yP9+46htN69yKS87JkSllyJQzZMteSGTKmVpgZMoZMqX6tmw5W9u/+jxbzq74vFYSocSGeiXJcJK+SF9T0CRDyQ2FinUc73DZlxvmKRpCY7XDZVccBXUaHy5rrSWfWWJq6iVO/OwnzE4fZ2HmZ2TmZiksLOIsZjGZEoHSylZhIeLWKvZszKUUNwT640QG+kgMD9I3PMZw/5jXWm+o2EfiIwxGBwkFeqIdJoDrlCnmcuvoldRDpXEIbLWJ977RMa7+k/+y7rL0fM9gI6dyBwNB+iJ99EX6TukzK7ZCrpyrBUdjsGTLWdKl9IowyZazpMtpTuZONoWKXT620EI8FKcv3Leil9IqPGrrz+oj+cqfIxW+lFQ4STKcJBQI4WYyy+YpvNAoPvccmW9/u/XhsssmtKtHQQWHh1dt1T5w88cJ33Q7g4suCwNByle/kze996On9G+fd/LM5mY4Mf0yJ0++zOz0cZZmp8nNzVFaSOOm8wQyZSK5CkG3uWwWSy7qkou7OIkAdjRKsD9FbHCA5MgwgyN7GR7dz2jfntr4+0hsZNOXGZDdLxgKk+gfING/8R52deL9j37rqpbb07MzLddvRk+EwXZ0fQMm4LXqIyk4hbnbiq2Qd/LN4VFaJVQaei4z+Zmm/dcbKk1hMpEkdThFMjxGX+RMksEEwxkYmC3QP5MnMZ0memKB8olZzAMPYGfnmt5vxeGyDaHx99+8hfwX7uPpA+MUXhEiVnY48/P38AA0BYJbcVkoLjBbmGWuMMdsZoaZmWPMz/yMzNwM+fkFyosZbLpAMOsQzweIF4IE7bKK3lhsHGwqRGVPAncgRXhwkP6RUQZH9zG2Z5y9e85gLLWHgchAz5yVutxzj5zgu3e/QGauSGo4yuvffhbn/kLnLogm61edeO8bHSM9s/Le730jG5+Mb/tZvTBMJF6oFJxCU3i0HOIqLQuWFr2adpcCAIiULWOLcHApzEQ6zP6FAGOLlpE5h8HZAuGGIZdjgymeOjhGpeFIjEClwiumZ3nhDXtYtGVyTomi4xBygsSLIRKFIPFikMCyU6AqQUMlFSbYHycy2E9yaIj+kTFGxg6wZ+8Z7N9/iOGhvbviqI9ueu6RE9x/6w9xGr6nUCTAm9/9SgXCNurUZUJ00pl0jLWWvJNff3jkM+QzSxQzaUqZLOG5PMnZAokllz2z/bjrOIop5LrEyi5Rt0IsECARiZJMpOgfGKJveJS+PXuJj40RHhkhODRE0L+8SKC/X5X/OpQKDkszBZZm8nz7lqMUcysv6BYMBzh00SihSIBQOEAoHCTYsByKBAiGN7AtFMAENKy2ETqaSHYMp1ymkF4in0lTWFrCySxRSS9hlpYIZtJE0ksk0kuY9BKh9BKRdJrUipOFIv4D3ECbhoi1vP29HyCOIVp2CWZzuPNzuPPzOPPzuHPz3vLkD3HnF1jK52l5UYVgkODgIMGhQUJDw7WgCA57YRGsrRskNOwt78azvG3Fkl0ssjSTZ3E6z9JMwf/pPfLp8prv4ZYrzB3P4JQqOGUXp1zBLVWoVDbfmAyGAk1BEQwHvcCINDxvDJ9qoESW77uObZEAwVDgtJ7XCUbOJzrwPspukehAlGDkrI6+v8KgRzmlEvnMEvmlJQqZNPn0Evl0mnx6kXx6iUK6cd0ShcwSpXz7a7tH4nHiff3EUv3E+/sZ2j9OvK/fW+f/jPf1Na37s/f9S0qFlYdkRuJRzr58/bfLruTzzUGxMI87N+c9n1/AnfOCpPjCC7jz897RUpXWQ10mHveDYojg8HD7IPHDI9jfvyPO0SgX3YbKPl9r6S9O51mazVNxGk5QNJAajtE/Gufwz43RP+otD4zFue9zT5GdL654/9RwlH91w+tWrK+4FS8Yyt5Pp+TWn/vLTqmC67TZVq7gllwcxwsXb51LqeDipMtN+1Y/w55KANV6KAGCkWBtORQJrn/b8pCqhVe9J1TdFgiZjgTQ8uG7zFyR+2/9IUDHhu8UBrtAuVRsqLzrj5brMmnyS0urHvsciSeI9/cTT/WR6O9nZHyibYXuBUDfpk7n/8X3/Vu++qefxjZUzCYQ4Bff92839D6BeJxAPE74wIF17W8rFdzFRS8oWvQ43Pl6kJRefBF3fp5Krs35J4EAwYGB5qAYbAiSamgMDhEa9gIlkEhs6PfzymzJLpZqrfnFmTxL09XlAvml5lANx4IMjMUZOZDk8KtH6R+L0z8aY2AsTmo4RjDYevjsDVee1XLO4PVvb90KDQQDRIIB2MIOles2BMeyoHDKblOoOKXqtnpvpuW2UoViziFXfQ8/xKqvW8exF60ZNtazaQyihm2P3P1C03cC4JQqfPfuFxQGu1W5WGhukTdV5ummCj2f8dY7xZUtuapoIlmrvJODQ4wefIVfoQ/4Fbpfuaf6iPcPEEulCIa25jot1fHOrb6RigkEapcth5Un7bVSKRb9oJjHmZur9zgWmoOk9NJLOPNP4M7PN5/Y1/j5sVh9eKra6xgegoFh8rERcsFBsjZOthQhkzOkF12WZgu45YbQNJAaitE/FuPQRSO1ln3/aJyB0TjRZGhTLdJqxbKTjyYKBgME4wEiW3RRU2stFcfWA2VZULiNy6v1kKq9oIb9CpkyTrnYctt6ZOba/9/fKIVBl1SPD17eMm8cdskv+esy6VpLfvm15BvFkqla5Z0aHmbsFYe81nmqz2/J+633fq+1Hkv1EQzt7K/4/De+eUfdRaudQDRKYN8+wvvWVynaSoVKOu2Hhzd05czNkzm5yNJMgYUFh3TWkC2FyU7Hyc0NUIo03hipRNBZIl6YIZ6fYaKSJhkqkIq5pPoMfUMRIsNDBAeGCPYNEUoMEYwMEQwNEyTIqfzX3nvy+7zh7xsu9/76a4HevVe4MYZg2BAMB4hu0Wdaa/2hNS8cvvgH3ye7uHJINTXcuRLt7Jqig05lJt5aS7mQb91ar7XS0xTSi7XlfHoJt9xmYs4YYslUrWXeNzLKnlec6VXo/rBLdZgm3jfgVe7JFIEdMDYtq3NKbn28fibP0kyJpekAizNJ0jMBnHLD5RACkNoXpX80zv6xOH1DEVJxl2SoSNKmCeUKuPNB3PkI7rzBmS94PZLJOfJPzZNeWIA2f2MmEqkfWTXcPHTlrRv211WHtgYx4TCL99zTdCMo5/hxpn7fO+ejE/f/kPUxxnjzD2Hv//wb3nE2377ladyGkySDQdt2+G4zeiIMlh+jm56Z5ut//scs/OwE+846p1ahF/xhl8YKvVrxV68JsoIxXuXtt9D79+xl71nn1Nc1PKqt+lgqRaBHT2g63VlryS2VahV+06TtdH5F6y0UDTIwGmdwT5wzLhxmYDReG9LpG44RDG/+0FdrLZVMxhu+qk6YVyfQqz0Sf1vp2DHc+QUqS+1vZhPo7/fuB75seMsWCkx99GNkH3kEYwLeGFXAgDENzwNgWPk8EADWeG4M+K8z/vu2e07An5Bt93wj71ErywaeVz+j6Xmr32W15946Y2j/Hv4h0dXnYz99kPN++FVeOPgrFKPDRItznPXyV9l78n+iU722njjP4KYPvKfl2XvLGRMglko1DLW0nzStrosmk6rYdxmn7JKebTj8crrgt/K9x/KJvNSQ17pvPCqn36/0433hHXU4oy2XcRcW6kGxUJ0D8YJk/tZb2742tGePd/VOi3c0lrVQqXhzq9Xn1mL9n9V1y59zGtY5O1XowAHO+fa31r1/z59nsNr1O379//pkrZKPJZI6SakHWGvJp8vLDsWsH4OfXWietwlFArXK/eArh5uOzOkbidW68qcDEw4TGhsjNDbWcnv6/vtxjh9fsX6jlc5abGM4LA+USsXLC9v43NaDpMXzliFUsUD713hl8PdZ/prG59bWyrLyuR+OG31eqdTKttY+tlLh5B/+p5b/js7UygtwblZPhEHfyGjr63qMjnHg3PO3oUTSbW65wtJsvnn8vuFQTKfYPBSSHIjQPxbn4CuH/Mo+XmvtJ/ojO6p13017rru2ac4AvKOf9lx3bUc/xxgDDXNgvfGvu3lzt3yhdUjv39+xz+iJMHjju36z5XU93viu39zGUsmp8O4DXK4P30x7lXy1ws8sFJuODQ+GA7UhnPHzhmqHYPaPxekfiRGKnD6t+26qThKf/HTD0UTXXavJ4222FSHdE2GwXcezy9pWu0Km61S8sfuGVv3STH38vlxobt0nBiIMjMYZP3fIG78fq1f4vdS6P1UDb3ubKv8dZitCuicmkGXnccouzzx0nIfveqH5ZKoADOyJ45QqZOeLTXONwVCgVsk3tez9iduwWvciq+r5CWTpPO/cC5di3qGYK1PMOhRzDsV82ftZe5RXLuedpgBoet8KLM0UOPs1e+oVvv9IDkR0pUuRLlEY9LCKW/Er89YVdynvUMg5FLMOJb+SL+QcSn6FvuoFwwxE4yGiiRCReIhoIszw/iSRhLccTYR45O4XW5fLsfzSey7s0m8tIq0oDE5zTslvnWf9yjy/Sou88XneWTHmvlwgaIg2VN6xVJiBPYlaJV9dX3/Un0dioTVb8U8/eKzltVU6eYq9iKyPwmCbWWspFdymCruUcyj4z0t5h2K27LXI8ysrdtdZ/YJWoWiQWKLeQu8biTF2MNXUQm+qyP1WfDQZIhTu7vXfX//2jV0hU0S6p2fCoJv3dXXdil9ptxo3X2U571X8q87hNwy3VCvs5GDUW46HiCZD9eXlrfNEqO2lineC0+EKmSK9oifCYK0bQ1hrccqV5ha5X2HXWuSrDMOUi2sMt4QM0US41kKP90UY3Jsg5lfYbVvoyTCRaHBXT5qe+wv7VPmL7AA9EQbfbXNjiL/5y6M8dOePKObKTXeCaiUcC9aHUBIh+kfjLcbNW7fQdUKTiOx0PREG7W4AYSuWwz836rXQ421a6H4rPbCDh1tERE5VT4RBajja9qiVN7/7ldtQIhGRnaUnmruvf/tZhCLNv6qOWhERqdvynoEx5kzgI8CAtfYqY0wS+FOgBDxgrW1/QfVN0lErIiKr61oYGGMOArcAe/GuH3mTtfYz1toXgfcaY+7wd30HcIe19h5jzF8DHQ8D0FErIiKr6eYwkQN80Fp7AfA64APGmAta7DcBvOwvr36MpoiIdEXXwsBaO2WtfdxfTgNHgfEWu07iBcKq5THGXG2MedQY8+j09Nq3sBQRkfXbkglkY8wh4GLgEWPMiDHmc8DFxpjrgbuAf26M+TPgnnbvYa29yVp7xFp7ZKzNLftERGRzuj6BbIxJAXcC11prl/zV71+223u6XQ4REWmvqz0DY0wYLwhutdbe1c3PEhGRzevanc6Md7nLvwTmrLXXdvi9p4GfbPLlo8BMB4sjnaHvZefRd7Izncr38gprbctx9m6GwT8FHgSeAqoXBvpda+19XfnAdTLGPNrutm+yffS97Dz6Tnambn0vXZszsNY+BOzey22KiOwiPXE5ChERWV0vhsFN210AaUnfy86j72Rn6sr30rU5AxEROX30Ys9ARESWURiIiIjCQEREejQMjDHnG2M+Z4y5wxjzO9tdHqkzxiT9CxL+s+0ui4Ax5k3GmAf9/y9v2u7yCBhjAsaYTxhj/tgY81udet9dHQbGmIPGmPuNMc8YY542xlwDYK09aq19P/BO4NLtLWXvafe9+P49cPt2la1XrfKdWCADxPCuMCxbZJXv5O14V3ou08HvZFcfTWSM2Q/st9Y+bozpAx4DrrTWPmOMuQL4HeAL1trbtrWgPabd94J3ifMRvIpnxlr7le0rZW9Z5Tv5obW2YozZC3zKWvvu7SxnL1nlO7kCmLfW/rkx5g5r7VWd+Lwtv+3lVrLWTgFT/nLaGFO9p8Iz1tovA182xtwLKAy20Crfy5uAJHABkDfG3GetrbR9I+mYdt+JtfYZf5d5ILpd5etFq/w/mcS7TTB08IZguzoMGi27p8Kb8G63GQW29VpJva7xe7HWftNf96/xegYKgm2w7P/KO4DLgUHgs9tYrJ7W+J3g3UXyj40xbwT+rmOfsZuHiar8eyr8LfAJXUp759D3svPoO9l5tuo72dUTyKB7KuxU+l52Hn0nO89Wfie7umfQzXsqyObpe9l59J3sPFv9nez2MNiR91Todfpedh59JzvPVn8nuzoMRERkfXb9nIGIiKxNYSAiIgoDERFRGIiICAoDERFBYSAiIigMREQEhYGIiKAwEOkIY8whY8xRY8xf+Dci+YYxJr7d5RJZL4WBSOecA/yJtfZCYAH459tbHJH1UxiIdM6PrbVP+MuPAYe2rygiG6MwEOmcYsOySw/dPEpOfwoDERFRGIiIiC5hLSIiqGcgIiIoDEREBIWBiIigMBARERQGIiKCwkBERFAYiIgICgMREQH+f73iY04q+1gAAAAAAElFTkSuQmCC",
      "text/plain": [
       "<Figure size 432x288 with 1 Axes>"
      ]
     },
     "metadata": {
      "needs_background": "light"
     },
     "output_type": "display_data"
    }
   ],
   "source": [
    "\n",
    "fig = plt.figure()\n",
    "ax = fig.gca()\n",
    "\n",
    "for m in m_list:\n",
    "    name = \"df_m\" + str(m)\n",
    "    df = strassens_res[name]\n",
    "    ax.errorbar(df['n'], df['res/runtime'], capsize = 3.0, marker = 'o')\n",
    "\n",
    "ax.set_yscale('log', base=2)\n",
    "ax.set_xscale('log', base=2)\n",
    "\n",
    "#outside for-loop\n",
    "ax.set_xlabel(\"n\")\n",
    "ax.set_ylabel(\"time (s)\")\n",
    "ax.legend(['m=0'])\n",
    "\n",
    "#save plot as pdf\n",
    "plt.savefig(path+plot_path+ \"strassen_m_experiment_res.pdf\")"
   ]
>>>>>>> abedf2a07dcedb27128e1191303e3ee3d66febe1
  }
 ],
 "metadata": {
  "interpreter": {
   "hash": "98296c6fab1f2542c3ee1b453fe7ed304d5710b367ab83c3e921b0c6632a7bad"
  },
  "kernelspec": {
   "display_name": "Python 3.8.8 64-bit ('base': conda)",
   "language": "python",
   "name": "python3"
  },
  "language_info": {
   "codemirror_mode": {
    "name": "ipython",
    "version": 3
   },
   "file_extension": ".py",
   "mimetype": "text/x-python",
   "name": "python",
   "nbconvert_exporter": "python",
   "pygments_lexer": "ipython3",
   "version": "3.8.8"
  },
  "orig_nbformat": 4
 },
 "nbformat": 4,
 "nbformat_minor": 2
}
