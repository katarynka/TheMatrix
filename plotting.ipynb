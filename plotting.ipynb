{
 "cells": [
  {
   "cell_type": "markdown",
   "metadata": {},
   "source": [
    "# Plotting\n",
    "## The following file comprises the plots for the various test that we run"
   ]
  },
  {
   "cell_type": "code",
   "execution_count": 93,
   "metadata": {},
   "outputs": [],
   "source": [
    "import sys\n",
    "import numpy as np\n",
    "import matplotlib.pyplot as plt\n",
    "import pandas as pd"
   ]
  },
  {
   "cell_type": "code",
   "execution_count": 94,
   "metadata": {},
   "outputs": [],
   "source": [
    "#which computer is it run on? If you wish to run the following code on new machine please specify the right paths below\n",
    "katarzyna = True"
   ]
  },
  {
   "cell_type": "code",
   "execution_count": 95,
   "metadata": {},
   "outputs": [],
   "source": [
    "\n",
    "if katarzyna:\n",
    "    sys.path.append(\"/home/katarzyna/Documents/school/applied_algo/exam/fresh_copy/TheMatrix\")\n",
    "    path = \"/home/katarzyna/Documents/school/applied_algo/exam/fresh_copy/TheMatrix/\"\n",
    "else:\n",
    "    sys.path.append(\"/home/gustavgyrst/Desktop/AA_Final/TheMatrix\")\n",
    "    path = \"/home/gustavgyrst/Desktop/AA_Final/TheMatrix/\"\n"
   ]
  },
  {
   "cell_type": "markdown",
   "metadata": {},
   "source": [
    "### Path for saving all plots"
   ]
  },
  {
   "cell_type": "code",
   "execution_count": 96,
   "metadata": {},
   "outputs": [],
   "source": [
    "plot_path = \"experiments/Results/plots/\""
   ]
  },
  {
   "cell_type": "markdown",
   "metadata": {},
   "source": [
    "### Define m_list for Strassen's and recursive write through"
   ]
  },
  {
   "cell_type": "code",
   "execution_count": 97,
   "metadata": {},
   "outputs": [],
   "source": [
    "m_list = [0,2,4,8,16,32]"
   ]
  },
  {
   "cell_type": "markdown",
   "metadata": {},
   "source": [
    "## Recursive Write Through m-tests Plotting"
   ]
  },
  {
   "cell_type": "markdown",
   "metadata": {},
   "source": [
    "### Paths and Dataframe creation "
   ]
  },
  {
   "cell_type": "code",
   "execution_count": 98,
   "metadata": {},
   "outputs": [],
   "source": [
    "#insert the relative path\n",
    "relative_path = \"experiments/Results/write_through_m_experiments/\""
   ]
  },
  {
   "cell_type": "code",
   "execution_count": 99,
   "metadata": {},
   "outputs": [],
   "source": [
    "name = \"_recursive_write_through_matrix_multiplication_mtest.csv\"\n",
    "\n",
    "recursive_write_through_res = {}\n",
    "\n",
    "for i in range(len(m_list)):\n",
    "    df_name = \"df_m\"+str(m_list[i])\n",
    "    df = pd.read_csv(path + relative_path + str(m_list[i]) + name)\n",
    "    df['res/runtime'] = df.apply(lambda x: (1000000000*x['time']) / x['n']**3, axis=1)\n",
    "    \n",
    "    recursive_write_through_res[df_name] = df"
   ]
  },
  {
   "cell_type": "markdown",
   "metadata": {},
   "source": [
    "### Plotting"
   ]
  },
  {
   "cell_type": "code",
   "execution_count": 100,
   "metadata": {},
   "outputs": [],
   "source": [
    "df_m0 = recursive_write_through_res['df_m0']\n"
   ]
  },
  {
   "cell_type": "code",
   "execution_count": 101,
   "metadata": {},
   "outputs": [
    {
     "data": {
      "text/html": [
       "<div>\n",
       "<style scoped>\n",
       "    .dataframe tbody tr th:only-of-type {\n",
       "        vertical-align: middle;\n",
       "    }\n",
       "\n",
       "    .dataframe tbody tr th {\n",
       "        vertical-align: top;\n",
       "    }\n",
       "\n",
       "    .dataframe thead th {\n",
       "        text-align: right;\n",
       "    }\n",
       "</style>\n",
       "<table border=\"1\" class=\"dataframe\">\n",
       "  <thead>\n",
       "    <tr style=\"text-align: right;\">\n",
       "      <th></th>\n",
       "      <th>n</th>\n",
       "      <th>time</th>\n",
       "      <th>stdv</th>\n",
       "      <th>res/runtime</th>\n",
       "    </tr>\n",
       "  </thead>\n",
       "  <tbody>\n",
       "    <tr>\n",
       "      <th>0</th>\n",
       "      <td>8</td>\n",
       "      <td>0.003188</td>\n",
       "      <td>0.000235</td>\n",
       "      <td>6227.133175</td>\n",
       "    </tr>\n",
       "    <tr>\n",
       "      <th>1</th>\n",
       "      <td>16</td>\n",
       "      <td>0.023497</td>\n",
       "      <td>0.001072</td>\n",
       "      <td>5736.656021</td>\n",
       "    </tr>\n",
       "    <tr>\n",
       "      <th>2</th>\n",
       "      <td>32</td>\n",
       "      <td>0.167470</td>\n",
       "      <td>0.001719</td>\n",
       "      <td>5110.780573</td>\n",
       "    </tr>\n",
       "    <tr>\n",
       "      <th>3</th>\n",
       "      <td>64</td>\n",
       "      <td>1.197075</td>\n",
       "      <td>0.006852</td>\n",
       "      <td>4566.477097</td>\n",
       "    </tr>\n",
       "  </tbody>\n",
       "</table>\n",
       "</div>"
      ],
      "text/plain": [
       "    n      time      stdv  res/runtime\n",
       "0   8  0.003188  0.000235  6227.133175\n",
       "1  16  0.023497  0.001072  5736.656021\n",
       "2  32  0.167470  0.001719  5110.780573\n",
       "3  64  1.197075  0.006852  4566.477097"
      ]
     },
     "execution_count": 101,
     "metadata": {},
     "output_type": "execute_result"
    }
   ],
   "source": [
    "df_m0\n"
   ]
  },
  {
   "cell_type": "code",
   "execution_count": 102,
   "metadata": {},
   "outputs": [
    {
     "data": {
      "image/png": "[encoded data removed]",
      "text/plain": [
       "<Figure size 432x288 with 1 Axes>"
      ]
     },
     "metadata": {
      "needs_background": "light"
     },
     "output_type": "display_data"
    }
   ],
   "source": [
    "\n",
    "fig = plt.figure()\n",
    "ax = fig.gca()\n",
    "\n",
    "for m in m_list:\n",
    "    name = \"df_m\" + str(m)\n",
    "    df = recursive_write_through_res[name]\n",
    "    ax.errorbar(df['n'], df['res/runtime'], capsize = 3.0, marker = 'o')\n",
    "\n",
    "ax.set_yscale('log', base=2)\n",
    "ax.set_xscale('log', base=2)\n",
    "\n",
    "#outside for-loop\n",
    "ax.set_xlabel(\"n\")\n",
    "ax.set_ylabel(\"time (s)\")\n",
    "ax.legend(['m=0'])\n",
    "\n",
    "#save plot as pdf\n",
    "plt.savefig(path+plot_path+ \"recursive_write_through_m_experiment_res.pdf\")\n"
   ]
  },
  {
   "cell_type": "markdown",
   "metadata": {},
   "source": [
    "## Strassen's m-tests Plotting"
   ]
  },
  {
   "cell_type": "markdown",
   "metadata": {},
   "source": [
    "### Paths and Dataframe creation "
   ]
  },
  {
   "cell_type": "code",
   "execution_count": 103,
   "metadata": {},
   "outputs": [],
   "source": [
    "#insert the relative path\n",
    "relative_path = \"experiments/Results/strassen_m_experiments/\""
   ]
  },
  {
   "cell_type": "code",
   "execution_count": 104,
   "metadata": {},
   "outputs": [],
   "source": [
    "name = \"_strassen_matrix_multiplication_mtest.csv\"\n",
    "\n",
    "strassens_res = {}\n",
    "\n",
    "for i in range(len(m_list)):\n",
    "    df_name = \"df_m\"+str(m_list[i])\n",
    "    df = pd.read_csv(path + relative_path + str(m_list[i]) + name)\n",
    "    df['res/runtime'] = df.apply(lambda x: (1000000000*x['time']) / x['n']**3, axis=1)\n",
    "    \n",
    "    strassens_res[df_name] = df"
   ]
  },
  {
   "cell_type": "markdown",
   "metadata": {},
   "source": [
    "### Plotting"
   ]
  },
  {
   "cell_type": "code",
   "execution_count": 105,
   "metadata": {},
   "outputs": [
    {
     "data": {
      "image/png": "[encoded data removed]",
      "text/plain": [
       "<Figure size 432x288 with 1 Axes>"
      ]
     },
     "metadata": {
      "needs_background": "light"
     },
     "output_type": "display_data"
    }
   ],
   "source": [
    "\n",
    "fig = plt.figure()\n",
    "ax = fig.gca()\n",
    "\n",
    "for m in m_list:\n",
    "    name = \"df_m\" + str(m)\n",
    "    df = strassens_res[name]\n",
    "    ax.errorbar(df['n'], df['res/runtime'], capsize = 3.0, marker = 'o')\n",
    "\n",
    "ax.set_yscale('log', base=2)\n",
    "ax.set_xscale('log', base=2)\n",
    "\n",
    "#outside for-loop\n",
    "ax.set_xlabel(\"n\")\n",
    "ax.set_ylabel(\"time (s)\")\n",
    "ax.legend(['m=0'])\n",
    "\n",
    "#save plot as pdf\n",
    "plt.savefig(path+plot_path+ \"strassen_m_experiment_res.pdf\")"
   ]
  }
 ],
 "metadata": {
  "interpreter": {
   "hash": "98296c6fab1f2542c3ee1b453fe7ed304d5710b367ab83c3e921b0c6632a7bad"
  },
  "kernelspec": {
   "display_name": "Python 3.8.8 64-bit ('base': conda)",
   "language": "python",
   "name": "python3"
  },
  "language_info": {
   "codemirror_mode": {
    "name": "ipython",
    "version": 3
   },
   "file_extension": ".py",
   "mimetype": "text/x-python",
   "name": "python",
   "nbconvert_exporter": "python",
   "pygments_lexer": "ipython3",
   "version": "3.8.8"
  },
  "orig_nbformat": 4
 },
 "nbformat": 4,
 "nbformat_minor": 2
}
