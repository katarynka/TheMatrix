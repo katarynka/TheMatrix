{
 "cells": [
  {
   "cell_type": "markdown",
   "metadata": {},
   "source": [
    "# Tests on Extreme Inputs\n",
    "\n",
    "The following test section has the purpose is comprising tests that we expect to fail. This comprise tests that will show the limitation when working with floating point numbers. In particular this relates to testing for input values (x) in our matrices that exceed our limit of x < sqrt(2**53/n). Likewise, we test for very small numbers between 0.0-1.0 that include decimals beyond what we expect for floating point accuracy.\n",
    "\n",
    "#### 1) Test on Large Numbers: x > sqrt(2**53/n)\n",
    "\n",
    "#### 2) Test on Small Numbers: 0.0 < x < 1.0\n",
    "\n",
    "All tests are run with: numpy.assert_equals() numpy.assert_allclose() https://numpy.org/doc/stable/reference/generated/numpy.allclose.html\n"
   ]
  },
  {
   "cell_type": "code",
   "execution_count": 1,
   "metadata": {},
   "outputs": [],
   "source": [
    "import sys\n",
    "sys.path.append(\"/home/gustavgyrst/Desktop/AA_Final/TheMatrix/\")\n",
    "#sys.setrecursionlimit(2000) Probably not necessary\n",
    "from experiments import *\n",
    "from matrix_implementations import *\n",
    "import random\n",
    "import numpy as np\n",
    "import csv\n",
    "import logging"
   ]
  },
  {
   "cell_type": "markdown",
   "metadata": {},
   "source": [
    "### Correct Input Generator (Following x < np.sqrt(2**(53)/n))"
   ]
  },
  {
   "cell_type": "code",
   "execution_count": 27,
   "metadata": {},
   "outputs": [],
   "source": [
    "def get_input_range(n):\n",
    "    lower_bound = 0\n",
    "    upper_bound = round(np.sqrt(float(2**(53))/n))\n",
    "    input_range = [lower_bound, upper_bound]\n",
    "    return input_range\n",
    "\n",
    "\n",
    "def generate_input(n: int) -> np.ndarray:\n",
    "    list= []\n",
    "    input_range = get_input_range(n)\n",
    "    for i in range(0,n*n):\n",
    "        l = random.randint(input_range[0],int(input_range[1]))\n",
    "        list.append(float(l))\n",
    "    return np.array(list).reshape(n,n)\n",
    "\n"
   ]
  },
  {
   "cell_type": "markdown",
   "metadata": {},
   "source": [
    "### Too Large Inputs \n"
   ]
  },
  {
   "cell_type": "code",
   "execution_count": 3,
   "metadata": {},
   "outputs": [],
   "source": [
    "def too_large_input_range(n, power):\n",
    "    lower_bound = 0\n",
    "    upper_bound = round(np.sqrt(float(2**(power)/n)))\n",
    "    input_range = [lower_bound, upper_bound]\n",
    "    return input_range\n",
    "\n",
    "def generate_too_large_input(n, power=70):\n",
    "    list= []\n",
    "    input_range = too_large_input_range(n, power)\n",
    "    for i in range(0,n*n):\n",
    "        \n",
    "        l = random.randint(input_range[0],int(input_range[1]))\n",
    "        list.append(float(l))\n",
    "    return np.array(list).reshape(n,n)\n"
   ]
  },
  {
   "cell_type": "markdown",
   "metadata": {},
   "source": [
    "### Test Matrix Generation"
   ]
  },
  {
   "cell_type": "code",
   "execution_count": 4,
   "metadata": {},
   "outputs": [],
   "source": [
    "n = 64\n",
    "A = generate_too_large_input(n)\n",
    "B = generate_too_large_input(n)\n",
    "C = generate_too_large_input(n)\n"
   ]
  },
  {
   "cell_type": "code",
   "execution_count": 5,
   "metadata": {},
   "outputs": [
    {
     "data": {
      "text/plain": [
       "numpy.ndarray"
      ]
     },
     "execution_count": 5,
     "metadata": {},
     "output_type": "execute_result"
    }
   ],
   "source": [
    "A_within = generate_input(n)\n",
    "B_within = generate_input(n)\n",
    "type(A)"
   ]
  },
  {
   "cell_type": "code",
   "execution_count": 6,
   "metadata": {},
   "outputs": [],
   "source": [
    "np_res = np.matmul(A,B)\n",
    "res = elementary_multiplication(Matrix(n,n, A), Matrix(n,n,B))"
   ]
  },
  {
   "cell_type": "code",
   "execution_count": 7,
   "metadata": {},
   "outputs": [],
   "source": [
    "np_res_within = np.matmul(A_within,B_within)\n",
    "res_within = elementary_multiplication(Matrix(n,n, A_within), Matrix(n,n,B_within))"
   ]
  },
  {
   "cell_type": "code",
   "execution_count": 8,
   "metadata": {},
   "outputs": [],
   "source": [
    "#np.testing.assert_allclose(res.tolist(), np_res, 0.01, 0.05)\n"
   ]
  },
  {
   "cell_type": "code",
   "execution_count": 9,
   "metadata": {},
   "outputs": [],
   "source": [
    "np.testing.assert_array_equal(res_within.tolist(),np_res_within)"
   ]
  },
  {
   "cell_type": "code",
   "execution_count": 10,
   "metadata": {},
   "outputs": [],
   "source": [
    "#np.testing.assert_equal(res.tolist(), np_res)\n"
   ]
  },
  {
   "cell_type": "code",
   "execution_count": 37,
   "metadata": {},
   "outputs": [],
   "source": [
    "def test(algorithm, A:np.ndarray, B:np.ndarray, n:int, C:Matrix=None):\n",
    "    try:\n",
    "        if C == None:\n",
    "            np.testing.assert_equal(algorithm(Matrix(len(A),len(A), A), Matrix(len(B),len(B),B)).tolist(), np.matmul(A,B))\n",
    "            print(\"Ok\")\n",
    "        else:\n",
    "            np.testing.assert_equal(algorithm(Matrix(len(A),len(A), A), Matrix(len(B),len(B),B), C).tolist(), np.matmul(A,B))\n",
    "            print(\"Ok\")\n",
    "    except AssertionError as error:\n",
    "        \n",
    "        # Uncomment the log to see full error message each time\n",
    "        logging.error(\"TEXT\", exc_info=True)\n",
    "        error_message = str(error)\n",
    "        error_percentage = float(error_message.split(\"Mismatched elements: \")[1].split(\"%)\")[0].split(\"(\")[1])/100\n",
    "        \n",
    "        return error_percentage\n",
    "\n",
    "#test(elementary_multiplication, A, B, n)"
   ]
  },
  {
   "cell_type": "code",
   "execution_count": 47,
   "metadata": {},
   "outputs": [],
   "source": [
    "def full_test(algorithm_to_be_tested, input_generator, n:int, iterations:int, inplace=False, power:int=None):\n",
    "    \n",
    "    \"\"\"full_test takes an algorithm that is to be tested and the specified input generator that creates the inputs for \n",
    "    the given test. It evaluates whether a power is specified. Here a power refers to the power to which the input is\n",
    "    scaled with. it also checks if the algorithm being tested is an inplace algorithm or copying variant.\n",
    "    \n",
    "    \"\"\"\n",
    "    errors = []\n",
    "    \n",
    "    for i in range(iterations):\n",
    "        \n",
    "        if power != None:\n",
    "            A = input_generator(n, power)\n",
    "            B = input_generator(n, power)\n",
    "        else: \n",
    "            A = input_generator(n)\n",
    "            B = input_generator(n)\n",
    "            \n",
    "        if inplace == True:     \n",
    "            val = test(algorithm_to_be_tested, A, B, C=Matrix(len(A),len(A)), n=n)\n",
    "            if val != None:\n",
    "                errors.append(val)\n",
    "        else:\n",
    "            errors  = test(algorithm_to_be_tested, A, B, n=n)\n",
    "            if val != None:\n",
    "                errors.append(val)\n",
    "    \n",
    "    return errors"
   ]
  },
  {
   "cell_type": "code",
   "execution_count": 48,
   "metadata": {},
   "outputs": [
    {
     "name": "stdout",
     "output_type": "stream",
     "text": [
      "Ok\n",
      "Ok\n",
      "Ok\n"
     ]
    },
    {
     "data": {
      "text/plain": [
       "[]"
      ]
     },
     "execution_count": 48,
     "metadata": {},
     "output_type": "execute_result"
    }
   ],
   "source": [
    "full_test(recursive_multiplication_write_through, generate_input, n, iterations=3, inplace=True)"
   ]
  }
 ],
 "metadata": {
  "interpreter": {
   "hash": "98296c6fab1f2542c3ee1b453fe7ed304d5710b367ab83c3e921b0c6632a7bad"
  },
  "kernelspec": {
   "display_name": "Python 3.8.8 64-bit ('base': conda)",
   "language": "python",
   "name": "python3"
  },
  "language_info": {
   "codemirror_mode": {
    "name": "ipython",
    "version": 3
   },
   "file_extension": ".py",
   "mimetype": "text/x-python",
   "name": "python",
   "nbconvert_exporter": "python",
   "pygments_lexer": "ipython3",
   "version": "3.8.8"
  },
  "orig_nbformat": 4
 },
 "nbformat": 4,
 "nbformat_minor": 2
}
