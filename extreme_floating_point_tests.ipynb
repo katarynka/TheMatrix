{
 "cells": [
  {
   "cell_type": "markdown",
   "metadata": {},
   "source": [
    "# Tests on Extreme Inputs\n",
    "\n",
    "The following test section has the purpose is comprising tests that we expect to fail. This comprise tests that will show the limitation when working with floating point numbers. In particular this relates to testing for input values (x) in our matrices that exceed our limit of x < sqrt(2**53/n). This test does not include test on small numbers but we would expect same behavior with a set of very small numbers, as that ultimately also could result in rounding error. Namely numbers between 0.0-1.0 that include decimals beyond what we expect for floating point accuracy.\n",
    "\n",
    "#### 1) Test on Large Numbers: x > sqrt(2**53/n)\n",
    "\n",
    "All tests are run with: numpy.assert_equals() numpy.assert_allclose() https://numpy.org/doc/stable/reference/generated/numpy.allclose.html\n"
   ]
  },
  {
   "cell_type": "code",
   "execution_count": 1,
   "metadata": {},
   "outputs": [],
   "source": [
    "import sys\n",
    "sys.path.append(\"/home/gustavgyrst/Desktop/AA_Final/TheMatrix/\")\n",
    "#sys.setrecursionlimit(2000) Probably not necessary\n",
    "from experiments import *\n",
    "from matrix_implementations import *\n",
    "import random\n",
    "import numpy as np\n",
    "import csv\n",
    "import logging"
   ]
  },
  {
   "cell_type": "markdown",
   "metadata": {},
   "source": [
    "### Correct Input Generator (Following x < np.sqrt(2**(53)/n))"
   ]
  },
  {
   "cell_type": "code",
   "execution_count": 2,
   "metadata": {},
   "outputs": [],
   "source": [
    "def get_input_range(n):\n",
    "    lower_bound = 0\n",
    "    upper_bound = round(np.sqrt(float(2**(53))/n))\n",
    "    input_range = [lower_bound, upper_bound]\n",
    "    return input_range\n",
    "\n",
    "\n",
    "def generate_input(n: int) -> np.ndarray:\n",
    "    list= []\n",
    "    input_range = get_input_range(n)\n",
    "    for i in range(0,n*n):\n",
    "        l = random.randint(input_range[0],int(input_range[1]))\n",
    "        list.append(float(l))\n",
    "    return np.array(list).reshape(n,n)\n",
    "\n"
   ]
  },
  {
   "cell_type": "markdown",
   "metadata": {},
   "source": [
    "### Too Large Inputs \n"
   ]
  },
  {
   "cell_type": "code",
   "execution_count": 3,
   "metadata": {},
   "outputs": [],
   "source": [
    "def too_large_input_range(n, power):\n",
    "    lower_bound = 0\n",
    "    upper_bound = round(np.sqrt(float(2**(power)/n)))\n",
    "    input_range = [lower_bound, upper_bound]\n",
    "    return input_range\n",
    "\n",
    "def generate_too_large_input(n, power=70):\n",
    "    list= []\n",
    "    input_range = too_large_input_range(n, power)\n",
    "    for i in range(0,n*n):\n",
    "        \n",
    "        l = random.randint(input_range[0],int(input_range[1]))\n",
    "        list.append(float(l))\n",
    "    return np.array(list).reshape(n,n)\n"
   ]
  },
  {
   "cell_type": "markdown",
   "metadata": {},
   "source": [
    "### Test Matrix Generation"
   ]
  },
  {
   "cell_type": "code",
   "execution_count": 4,
   "metadata": {},
   "outputs": [],
   "source": [
    "n = 64\n",
    "A = generate_too_large_input(n)\n",
    "B = generate_too_large_input(n)\n",
    "C = generate_too_large_input(n)\n"
   ]
  },
  {
   "cell_type": "code",
   "execution_count": 5,
   "metadata": {},
   "outputs": [
    {
     "data": {
      "text/plain": [
       "numpy.ndarray"
      ]
     },
     "execution_count": 5,
     "metadata": {},
     "output_type": "execute_result"
    }
   ],
   "source": [
    "A_within = generate_input(n)\n",
    "B_within = generate_input(n)\n",
    "type(A)"
   ]
  },
  {
   "cell_type": "markdown",
   "metadata": {},
   "source": [
    "# Quick tests to with some basic inputs\n",
    "\n",
    "Further down there is full test method for extended tests: Go check them out!"
   ]
  },
  {
   "cell_type": "code",
   "execution_count": 6,
   "metadata": {},
   "outputs": [],
   "source": [
    "np_res = np.matmul(A,B)\n",
    "res = elementary_multiplication(Matrix(n,n, A), Matrix(n,n,B))"
   ]
  },
  {
   "cell_type": "code",
   "execution_count": 7,
   "metadata": {},
   "outputs": [],
   "source": [
    "np_res_within = np.matmul(A_within,B_within)\n",
    "res_within = elementary_multiplication(Matrix(n,n, A_within), Matrix(n,n,B_within))"
   ]
  },
  {
   "cell_type": "code",
   "execution_count": 8,
   "metadata": {},
   "outputs": [],
   "source": [
    "#np.testing.assert_allclose(res.tolist(), np_res, 0.01, 0.05)\n"
   ]
  },
  {
   "cell_type": "code",
   "execution_count": 9,
   "metadata": {},
   "outputs": [],
   "source": [
    "np.testing.assert_array_equal(res_within.tolist(),np_res_within)"
   ]
  },
  {
   "cell_type": "code",
   "execution_count": 10,
   "metadata": {},
   "outputs": [],
   "source": [
    "#np.testing.assert_equal(res.tolist(), np_res)\n"
   ]
  },
  {
   "cell_type": "code",
   "execution_count": 11,
   "metadata": {},
   "outputs": [],
   "source": [
    "def test(algorithm, A:np.ndarray, B:np.ndarray, n:int, C:Matrix=None):\n",
    "    try:\n",
    "        if C == None:\n",
    "            np.testing.assert_equal(algorithm(Matrix(len(A),len(A), A), Matrix(len(B),len(B),B)).tolist(), np.matmul(A,B))\n",
    "            print(\"Ok\")\n",
    "        else:\n",
    "            np.testing.assert_equal(algorithm(Matrix(len(A),len(A), A), Matrix(len(B),len(B),B), C).tolist(), np.matmul(A,B))\n",
    "            print(\"Ok\")\n",
    "    except AssertionError as error:\n",
    "        \n",
    "        # Uncomment the log to see full error message each time\n",
    "        logging.error(\"TEXT\", exc_info=True)\n",
    "        error_message = str(error)\n",
    "        error_percentage = float(error_message.split(\"Mismatched elements: \")[1].split(\"%)\")[0].split(\"(\")[1])/100\n",
    "        \n",
    "        return error_percentage\n",
    "\n",
    "#test(elementary_multiplication, A, B, n)"
   ]
  },
  {
   "cell_type": "code",
   "execution_count": 12,
   "metadata": {},
   "outputs": [],
   "source": [
    "def full_test(algorithm_to_be_tested, input_generator, n:int, iterations:int, inplace=False, power:int=None):\n",
    "    \n",
    "    \"\"\"full_test takes an algorithm that is to be tested and the specified input generator that creates the inputs for \n",
    "    the given test. It evaluates whether a power is specified. Here a power refers to the power to which the input is\n",
    "    scaled with. it also checks if the algorithm being tested is an inplace algorithm or copying variant.\n",
    "    \n",
    "    \"\"\"\n",
    "    errors = []\n",
    "    \n",
    "    for i in range(iterations):\n",
    "        \n",
    "        if power != None:\n",
    "            A = input_generator(n, power)\n",
    "            B = input_generator(n, power)\n",
    "        else: \n",
    "            A = input_generator(n)\n",
    "            B = input_generator(n)\n",
    "            \n",
    "        if inplace == True:     \n",
    "            val = test(algorithm_to_be_tested, A, B, C=Matrix(len(A),len(A)), n=n)\n",
    "            if val != None:\n",
    "                errors.append(val)\n",
    "        else:\n",
    "            val = test(algorithm_to_be_tested, A, B, n=n)\n",
    "            if val != None:\n",
    "                errors.append(val)\n",
    "    \n",
    "    return errors"
   ]
  },
  {
   "cell_type": "markdown",
   "metadata": {},
   "source": [
    "### The Real Testing - Try out the methods and run some tests\n",
    "\n",
    "The tests below uses the methods provided above to test on very large inputs. Here we in particular reveal how strassen's algorithm with the more arithmetic operations "
   ]
  },
  {
   "cell_type": "code",
   "execution_count": 13,
   "metadata": {},
   "outputs": [
    {
     "name": "stdout",
     "output_type": "stream",
     "text": [
      "Ok\n",
      "Ok\n",
      "Ok\n"
     ]
    },
    {
     "data": {
      "text/plain": [
       "[]"
      ]
     },
     "execution_count": 13,
     "metadata": {},
     "output_type": "execute_result"
    }
   ],
   "source": [
    "#Basic test on the recursive write through:\n",
    "#writes ok for each test and returns an empty list if there are no mistakes in the test\n",
    "full_test(recursive_multiplication_write_through, generate_input, n, iterations=3, inplace=True)\n"
   ]
  },
  {
   "cell_type": "markdown",
   "metadata": {},
   "source": [
    "### Strassen Failing on large inputs earlier than other methods\n"
   ]
  },
  {
   "cell_type": "code",
   "execution_count": 24,
   "metadata": {},
   "outputs": [
    {
     "name": "stdout",
     "output_type": "stream",
     "text": [
      "Please don't mind the Error log text. It can be # commented out in the test method if desired.\n",
      "Ok\n",
      "Ok\n",
      "Ok\n"
     ]
    },
    {
     "name": "stderr",
     "output_type": "stream",
     "text": [
      "ERROR:root:TEXT\n",
      "Traceback (most recent call last):\n",
      "  File \"/tmp/ipykernel_7753/2947564240.py\", line 4, in test\n",
      "    np.testing.assert_equal(algorithm(Matrix(len(A),len(A), A), Matrix(len(B),len(B),B)).tolist(), np.matmul(A,B))\n",
      "  File \"/home/gustavgyrst/.local/lib/python3.8/site-packages/numpy/testing/_private/utils.py\", line 345, in assert_equal\n",
      "    return assert_array_equal(actual, desired, err_msg, verbose)\n",
      "  File \"/home/gustavgyrst/.local/lib/python3.8/site-packages/numpy/testing/_private/utils.py\", line 934, in assert_array_equal\n",
      "    assert_array_compare(operator.__eq__, x, y, err_msg=err_msg,\n",
      "  File \"/home/gustavgyrst/.local/lib/python3.8/site-packages/numpy/testing/_private/utils.py\", line 844, in assert_array_compare\n",
      "    raise AssertionError(msg)\n",
      "AssertionError: \n",
      "Arrays are not equal\n",
      "\n",
      "Mismatched elements: 120 / 4096 (2.93%)\n",
      "Max absolute difference: 3.\n",
      "Max relative difference: 1.2041968e-14\n",
      " x: array([[2.002819e+14, 2.617435e+14, 2.340614e+14, ..., 2.365560e+14,\n",
      "        3.020548e+14, 2.321226e+14],\n",
      "       [2.485642e+14, 3.181013e+14, 2.995920e+14, ..., 2.824564e+14,...\n",
      " y: array([[2.002819e+14, 2.617435e+14, 2.340614e+14, ..., 2.365560e+14,\n",
      "        3.020548e+14, 2.321226e+14],\n",
      "       [2.485642e+14, 3.181013e+14, 2.995920e+14, ..., 2.824564e+14,...\n",
      "ERROR:root:TEXT\n",
      "Traceback (most recent call last):\n",
      "  File \"/tmp/ipykernel_7753/2947564240.py\", line 4, in test\n",
      "    np.testing.assert_equal(algorithm(Matrix(len(A),len(A), A), Matrix(len(B),len(B),B)).tolist(), np.matmul(A,B))\n",
      "  File \"/home/gustavgyrst/.local/lib/python3.8/site-packages/numpy/testing/_private/utils.py\", line 345, in assert_equal\n",
      "    return assert_array_equal(actual, desired, err_msg, verbose)\n",
      "  File \"/home/gustavgyrst/.local/lib/python3.8/site-packages/numpy/testing/_private/utils.py\", line 934, in assert_array_equal\n",
      "    assert_array_compare(operator.__eq__, x, y, err_msg=err_msg,\n",
      "  File \"/home/gustavgyrst/.local/lib/python3.8/site-packages/numpy/testing/_private/utils.py\", line 844, in assert_array_compare\n",
      "    raise AssertionError(msg)\n",
      "AssertionError: \n",
      "Arrays are not equal\n",
      "\n",
      "Mismatched elements: 160 / 4096 (3.91%)\n",
      "Max absolute difference: 3.\n",
      "Max relative difference: 1.27704174e-14\n",
      " x: array([[2.665749e+14, 2.840633e+14, 2.760622e+14, ..., 2.237291e+14,\n",
      "        2.855178e+14, 2.628127e+14],\n",
      "       [2.595010e+14, 2.927294e+14, 2.950046e+14, ..., 2.063593e+14,...\n",
      " y: array([[2.665749e+14, 2.840633e+14, 2.760622e+14, ..., 2.237291e+14,\n",
      "        2.855178e+14, 2.628127e+14],\n",
      "       [2.595010e+14, 2.927294e+14, 2.950046e+14, ..., 2.063593e+14,...\n",
      "ERROR:root:TEXT\n",
      "Traceback (most recent call last):\n",
      "  File \"/tmp/ipykernel_7753/2947564240.py\", line 4, in test\n",
      "    np.testing.assert_equal(algorithm(Matrix(len(A),len(A), A), Matrix(len(B),len(B),B)).tolist(), np.matmul(A,B))\n",
      "  File \"/home/gustavgyrst/.local/lib/python3.8/site-packages/numpy/testing/_private/utils.py\", line 345, in assert_equal\n",
      "    return assert_array_equal(actual, desired, err_msg, verbose)\n",
      "  File \"/home/gustavgyrst/.local/lib/python3.8/site-packages/numpy/testing/_private/utils.py\", line 934, in assert_array_equal\n",
      "    assert_array_compare(operator.__eq__, x, y, err_msg=err_msg,\n",
      "  File \"/home/gustavgyrst/.local/lib/python3.8/site-packages/numpy/testing/_private/utils.py\", line 844, in assert_array_compare\n",
      "    raise AssertionError(msg)\n",
      "AssertionError: \n",
      "Arrays are not equal\n",
      "\n",
      "Mismatched elements: 244 / 4096 (5.96%)\n",
      "Max absolute difference: 4.\n",
      "Max relative difference: 1.7826562e-14\n",
      " x: array([[2.771860e+14, 2.759396e+14, 2.652391e+14, ..., 3.006432e+14,\n",
      "        2.876443e+14, 3.085944e+14],\n",
      "       [3.066570e+14, 3.056929e+14, 2.650371e+14, ..., 3.213777e+14,...\n",
      " y: array([[2.771860e+14, 2.759396e+14, 2.652391e+14, ..., 3.006432e+14,\n",
      "        2.876443e+14, 3.085944e+14],\n",
      "       [3.066570e+14, 3.056929e+14, 2.650371e+14, ..., 3.213777e+14,...\n",
      "ERROR:root:TEXT\n",
      "Traceback (most recent call last):\n",
      "  File \"/tmp/ipykernel_7753/2947564240.py\", line 4, in test\n",
      "    np.testing.assert_equal(algorithm(Matrix(len(A),len(A), A), Matrix(len(B),len(B),B)).tolist(), np.matmul(A,B))\n",
      "  File \"/home/gustavgyrst/.local/lib/python3.8/site-packages/numpy/testing/_private/utils.py\", line 345, in assert_equal\n",
      "    return assert_array_equal(actual, desired, err_msg, verbose)\n",
      "  File \"/home/gustavgyrst/.local/lib/python3.8/site-packages/numpy/testing/_private/utils.py\", line 934, in assert_array_equal\n",
      "    assert_array_compare(operator.__eq__, x, y, err_msg=err_msg,\n",
      "  File \"/home/gustavgyrst/.local/lib/python3.8/site-packages/numpy/testing/_private/utils.py\", line 844, in assert_array_compare\n",
      "    raise AssertionError(msg)\n",
      "AssertionError: \n",
      "Arrays are not equal\n",
      "\n",
      "Mismatched elements: 2564 / 4096 (62.6%)\n",
      "Max absolute difference: 40.\n",
      "Max relative difference: 2.08918313e-14\n",
      " x: array([[2.020284e+15, 2.321936e+15, 2.026784e+15, ..., 2.062816e+15,\n",
      "        1.927983e+15, 1.959620e+15],\n",
      "       [2.148890e+15, 2.486679e+15, 2.194104e+15, ..., 2.211953e+15,...\n",
      " y: array([[2.020284e+15, 2.321936e+15, 2.026784e+15, ..., 2.062816e+15,\n",
      "        1.927983e+15, 1.959620e+15],\n",
      "       [2.148890e+15, 2.486679e+15, 2.194104e+15, ..., 2.211953e+15,...\n",
      "ERROR:root:TEXT\n",
      "Traceback (most recent call last):\n",
      "  File \"/tmp/ipykernel_7753/2947564240.py\", line 4, in test\n",
      "    np.testing.assert_equal(algorithm(Matrix(len(A),len(A), A), Matrix(len(B),len(B),B)).tolist(), np.matmul(A,B))\n",
      "  File \"/home/gustavgyrst/.local/lib/python3.8/site-packages/numpy/testing/_private/utils.py\", line 345, in assert_equal\n",
      "    return assert_array_equal(actual, desired, err_msg, verbose)\n",
      "  File \"/home/gustavgyrst/.local/lib/python3.8/site-packages/numpy/testing/_private/utils.py\", line 934, in assert_array_equal\n",
      "    assert_array_compare(operator.__eq__, x, y, err_msg=err_msg,\n",
      "  File \"/home/gustavgyrst/.local/lib/python3.8/site-packages/numpy/testing/_private/utils.py\", line 844, in assert_array_compare\n",
      "    raise AssertionError(msg)\n",
      "AssertionError: \n",
      "Arrays are not equal\n",
      "\n",
      "Mismatched elements: 2472 / 4096 (60.4%)\n",
      "Max absolute difference: 57.\n",
      "Max relative difference: 2.65317061e-14\n",
      " x: array([[2.069542e+15, 2.586075e+15, 2.065494e+15, ..., 2.216250e+15,\n",
      "        2.514188e+15, 2.455841e+15],\n",
      "       [2.331071e+15, 2.566393e+15, 2.105165e+15, ..., 2.274744e+15,...\n",
      " y: array([[2.069542e+15, 2.586075e+15, 2.065494e+15, ..., 2.216250e+15,\n",
      "        2.514188e+15, 2.455841e+15],\n",
      "       [2.331071e+15, 2.566393e+15, 2.105165e+15, ..., 2.274744e+15,...\n",
      "ERROR:root:TEXT\n",
      "Traceback (most recent call last):\n",
      "  File \"/tmp/ipykernel_7753/2947564240.py\", line 4, in test\n",
      "    np.testing.assert_equal(algorithm(Matrix(len(A),len(A), A), Matrix(len(B),len(B),B)).tolist(), np.matmul(A,B))\n",
      "  File \"/home/gustavgyrst/.local/lib/python3.8/site-packages/numpy/testing/_private/utils.py\", line 345, in assert_equal\n",
      "    return assert_array_equal(actual, desired, err_msg, verbose)\n",
      "  File \"/home/gustavgyrst/.local/lib/python3.8/site-packages/numpy/testing/_private/utils.py\", line 934, in assert_array_equal\n",
      "    assert_array_compare(operator.__eq__, x, y, err_msg=err_msg,\n",
      "  File \"/home/gustavgyrst/.local/lib/python3.8/site-packages/numpy/testing/_private/utils.py\", line 844, in assert_array_compare\n",
      "    raise AssertionError(msg)\n",
      "AssertionError: \n",
      "Arrays are not equal\n",
      "\n",
      "Mismatched elements: 2626 / 4096 (64.1%)\n",
      "Max absolute difference: 55.\n",
      "Max relative difference: 3.13453513e-14\n",
      " x: array([[1.960382e+15, 2.342887e+15, 2.067819e+15, ..., 2.311159e+15,\n",
      "        1.949627e+15, 2.241150e+15],\n",
      "       [2.072248e+15, 2.163507e+15, 1.974461e+15, ..., 2.370249e+15,...\n",
      " y: array([[1.960382e+15, 2.342887e+15, 2.067819e+15, ..., 2.311159e+15,\n",
      "        1.949627e+15, 2.241150e+15],\n",
      "       [2.072248e+15, 2.163507e+15, 1.974461e+15, ..., 2.370249e+15,...\n",
      "ERROR:root:TEXT\n",
      "Traceback (most recent call last):\n",
      "  File \"/tmp/ipykernel_7753/2947564240.py\", line 4, in test\n",
      "    np.testing.assert_equal(algorithm(Matrix(len(A),len(A), A), Matrix(len(B),len(B),B)).tolist(), np.matmul(A,B))\n",
      "  File \"/home/gustavgyrst/.local/lib/python3.8/site-packages/numpy/testing/_private/utils.py\", line 345, in assert_equal\n",
      "    return assert_array_equal(actual, desired, err_msg, verbose)\n",
      "  File \"/home/gustavgyrst/.local/lib/python3.8/site-packages/numpy/testing/_private/utils.py\", line 934, in assert_array_equal\n",
      "    assert_array_compare(operator.__eq__, x, y, err_msg=err_msg,\n",
      "  File \"/home/gustavgyrst/.local/lib/python3.8/site-packages/numpy/testing/_private/utils.py\", line 844, in assert_array_compare\n",
      "    raise AssertionError(msg)\n",
      "AssertionError: \n",
      "Arrays are not equal\n",
      "\n",
      "Mismatched elements: 3693 / 4096 (90.2%)\n",
      "Max absolute difference: 488.\n",
      "Max relative difference: 2.73082924e-14\n",
      " x: array([[1.783507e+16, 1.672485e+16, 1.593968e+16, ..., 1.649408e+16,\n",
      "        1.691886e+16, 1.717637e+16],\n",
      "       [1.838456e+16, 1.879136e+16, 1.892049e+16, ..., 1.953776e+16,...\n",
      " y: array([[1.783507e+16, 1.672485e+16, 1.593968e+16, ..., 1.649408e+16,\n",
      "        1.691886e+16, 1.717637e+16],\n",
      "       [1.838456e+16, 1.879136e+16, 1.892049e+16, ..., 1.953776e+16,...\n",
      "ERROR:root:TEXT\n",
      "Traceback (most recent call last):\n",
      "  File \"/tmp/ipykernel_7753/2947564240.py\", line 4, in test\n",
      "    np.testing.assert_equal(algorithm(Matrix(len(A),len(A), A), Matrix(len(B),len(B),B)).tolist(), np.matmul(A,B))\n",
      "  File \"/home/gustavgyrst/.local/lib/python3.8/site-packages/numpy/testing/_private/utils.py\", line 345, in assert_equal\n",
      "    return assert_array_equal(actual, desired, err_msg, verbose)\n",
      "  File \"/home/gustavgyrst/.local/lib/python3.8/site-packages/numpy/testing/_private/utils.py\", line 934, in assert_array_equal\n",
      "    assert_array_compare(operator.__eq__, x, y, err_msg=err_msg,\n",
      "  File \"/home/gustavgyrst/.local/lib/python3.8/site-packages/numpy/testing/_private/utils.py\", line 844, in assert_array_compare\n",
      "    raise AssertionError(msg)\n",
      "AssertionError: \n",
      "Arrays are not equal\n",
      "\n",
      "Mismatched elements: 3732 / 4096 (91.1%)\n",
      "Max absolute difference: 396.\n",
      "Max relative difference: 2.23352087e-14\n",
      " x: array([[2.133126e+16, 1.970936e+16, 1.628575e+16, ..., 2.024492e+16,\n",
      "        1.958007e+16, 1.974105e+16],\n",
      "       [1.995411e+16, 1.957337e+16, 1.713509e+16, ..., 2.070345e+16,...\n",
      " y: array([[2.133126e+16, 1.970936e+16, 1.628575e+16, ..., 2.024492e+16,\n",
      "        1.958007e+16, 1.974105e+16],\n",
      "       [1.995411e+16, 1.957337e+16, 1.713509e+16, ..., 2.070345e+16,...\n"
     ]
    }
   ],
   "source": [
    "powers = [47,50,53,56,59,62,65,68,71,74,77]\n",
    "res = {}\n",
    "\n",
    "print(\"Please don't mind the Error log text. It can be # commented out in the test method if desired.\")\n",
    "\n",
    "for power in powers:\n",
    "    temp = full_test(strassen, generate_too_large_input,n, iterations=3, inplace=False, power=power)\n",
    "    total = 0\n",
    "    if len(temp) != 0:\n",
    "        for x in temp:\n",
    "            total += x\n",
    "        average = total/len(temp)\n",
    "        res[power] = average\n",
    "    else:\n",
    "        res[power] = \"No failed computations\"\n"
   ]
  },
  {
   "cell_type": "markdown",
   "metadata": {},
   "source": [
    "## Test result - Strassen on Large Numbers:\n",
    "We thus see that strassen fails earlier than originally anticipated as it fails before the 2^53. The results can be inspected below in the res dictionary. The key defined the power where the power is 2^power. We expect the floats to work until the power of 53."
   ]
  },
  {
   "cell_type": "code",
   "execution_count": 15,
   "metadata": {},
   "outputs": [
    {
     "data": {
      "text/plain": [
       "{47: 'No failed computations',\n",
       " 50: 0.018203333333333335,\n",
       " 53: 0.6076666666666667,\n",
       " 56: 0.9010000000000001,\n",
       " 59: 0.9233333333333332,\n",
       " 62: 0.9209999999999999,\n",
       " 65: 0.9236666666666666,\n",
       " 68: 0.9209999999999999,\n",
       " 71: 0.9229999999999999,\n",
       " 74: 0.9253333333333335,\n",
       " 77: 0.926}"
      ]
     },
     "execution_count": 15,
     "metadata": {},
     "output_type": "execute_result"
    }
   ],
   "source": [
    "res"
   ]
  }
 ],
 "metadata": {
  "interpreter": {
   "hash": "98296c6fab1f2542c3ee1b453fe7ed304d5710b367ab83c3e921b0c6632a7bad"
  },
  "kernelspec": {
   "display_name": "Python 3.8.8 64-bit ('base': conda)",
   "language": "python",
   "name": "python3"
  },
  "language_info": {
   "codemirror_mode": {
    "name": "ipython",
    "version": 3
   },
   "file_extension": ".py",
   "mimetype": "text/x-python",
   "name": "python",
   "nbconvert_exporter": "python",
   "pygments_lexer": "ipython3",
   "version": "3.8.8"
  },
  "orig_nbformat": 4
 },
 "nbformat": 4,
 "nbformat_minor": 2
}
