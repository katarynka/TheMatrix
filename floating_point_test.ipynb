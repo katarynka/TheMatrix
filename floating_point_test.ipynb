{
 "cells": [
  {
   "cell_type": "markdown",
   "metadata": {},
   "source": [
    "# Tests on Extreme Inputs\n",
    "\n",
    "The following test section has the purpose is comprising tests that we expect to fail. This comprise tests that will show the limitation when working with floating point numbers. In particular this relates to testing for input values (x) in our matrices that exceed our limit of x < sqrt(2**53/n). Likewise, we test for very small numbers between 0.0-1.0 that include decimals beyond what we expect for floating point accuracy.\n",
    "\n",
    "#### 1) Test on Large Numbers: x > sqrt(2**53/n)\n",
    "\n",
    "#### 2) Test on Small Numbers: 0.0 < x < 1.0\n",
    "\n",
    "All tests are run with: numpy.assert_equals() numpy.assert_allclose() https://numpy.org/doc/stable/reference/generated/numpy.allclose.html\n"
   ]
  },
  {
   "cell_type": "code",
   "execution_count": 9,
   "metadata": {},
   "outputs": [],
   "source": [
    "import sys\n",
    "sys.path.append(\"/home/gustavgyrst/Desktop/AA_Final/TheMatrix/\")\n",
    "#sys.setrecursionlimit(2000) Probably not necessary\n",
    "from experiments import *\n",
    "from matrix_implementations import *\n",
    "import random\n",
    "import numpy as np\n",
    "import csv\n",
    "import logging"
   ]
  },
  {
   "cell_type": "markdown",
   "metadata": {},
   "source": [
    "### Correct Input Generator (Following x < np.sqrt(2**(53)/n))"
   ]
  },
  {
   "cell_type": "code",
   "execution_count": 10,
   "metadata": {},
   "outputs": [],
   "source": [
    "def get_input_range(n):\n",
    "    lower_bound = 0\n",
    "    upper_bound = round(np.sqrt(float(2**(53))/n))\n",
    "    input_range = [lower_bound, upper_bound]\n",
    "    return input_range\n",
    "\n",
    "\n",
    "def generate_input(n: int) -> Matrix :\n",
    "    list= []\n",
    "    input_range = get_input_range(n)\n",
    "    for i in range(0,n*n):\n",
    "        l = random.randint(input_range[0],int(input_range[1]))\n",
    "        list.append(float(l))\n",
    "    return np.array(list).reshape(n,n)\n",
    "\n"
   ]
  },
  {
   "cell_type": "markdown",
   "metadata": {},
   "source": [
    "### Too Large Inputs \n"
   ]
  },
  {
   "cell_type": "code",
   "execution_count": 17,
   "metadata": {},
   "outputs": [],
   "source": [
    "def too_large_input_range(n, power):\n",
    "    lower_bound = 0\n",
    "    upper_bound = round(np.sqrt(float(2**(power)/n)))\n",
    "    input_range = [lower_bound, upper_bound]\n",
    "    return input_range\n",
    "\n",
    "def generate_too_large_input(n, power=70):\n",
    "    list= []\n",
    "    input_range = too_large_input_range(n, power)\n",
    "    for i in range(0,n*n):\n",
    "        \n",
    "        l = random.randint(input_range[0],int(input_range[1]))\n",
    "        list.append(float(l))\n",
    "    return np.array(list).reshape(n,n)\n"
   ]
  },
  {
   "cell_type": "markdown",
   "metadata": {},
   "source": [
    "### Test Matrix Generation"
   ]
  },
  {
   "cell_type": "code",
   "execution_count": 19,
   "metadata": {},
   "outputs": [],
   "source": [
    "n = 64\n",
    "A = generate_too_large_input(n)\n",
    "B = generate_too_large_input(n)\n",
    "C = generate_too_large_input(n)\n"
   ]
  },
  {
   "cell_type": "code",
   "execution_count": 20,
   "metadata": {},
   "outputs": [
    {
     "data": {
      "text/plain": [
       "numpy.ndarray"
      ]
     },
     "execution_count": 20,
     "metadata": {},
     "output_type": "execute_result"
    }
   ],
   "source": [
    "A_within = generate_input(n)\n",
    "B_within = generate_input(n)\n",
    "type(A)"
   ]
  },
  {
   "cell_type": "code",
   "execution_count": 21,
   "metadata": {},
   "outputs": [],
   "source": [
    "np_res = np.matmul(A,B)\n",
    "res = elementary_multiplication(Matrix(n,n, A), Matrix(n,n,B))"
   ]
  },
  {
   "cell_type": "code",
   "execution_count": 22,
   "metadata": {},
   "outputs": [],
   "source": [
    "np_res_within = np.matmul(A_within,B_within)\n",
    "res_within = elementary_multiplication(Matrix(n,n, A_within), Matrix(n,n,B_within))"
   ]
  },
  {
   "cell_type": "code",
   "execution_count": 23,
   "metadata": {},
   "outputs": [],
   "source": [
    "#np.testing.assert_allclose(res.tolist(), np_res, 0.01, 0.05)\n"
   ]
  },
  {
   "cell_type": "code",
   "execution_count": 24,
   "metadata": {},
   "outputs": [],
   "source": [
    "np.testing.assert_array_equal(res_within.tolist(),np_res_within)"
   ]
  },
  {
   "cell_type": "code",
   "execution_count": 26,
   "metadata": {},
   "outputs": [],
   "source": [
    "#np.testing.assert_equal(res.tolist(), np_res)\n"
   ]
  },
  {
   "cell_type": "code",
   "execution_count": 97,
   "metadata": {},
   "outputs": [
    {
     "data": {
      "text/plain": [
       "0.32799999999999996"
      ]
     },
     "execution_count": 97,
     "metadata": {},
     "output_type": "execute_result"
    }
   ],
   "source": [
    "def test(algorithm, A:np.ndarray, B:np.ndarray, n:int, C:Matrix=None):\n",
    "    try:\n",
    "        if C == None:\n",
    "            np.testing.assert_equal(algorithm(Matrix(n,n, A), Matrix(n,n,B)).tolist(), np.matmul(A,B))\n",
    "            print(\"Ok\")\n",
    "        else:\n",
    "            np.testing.assert_equal(algorithm(Matrix(n,n, A), Matrix(n,n,B), C).tolist(), np.matmul(A,B))\n",
    "            print(\"Ok\")\n",
    "    except AssertionError as error:\n",
    "        \n",
    "        # Uncomment the log to see full error message each time\n",
    "        #logging.error(\"TEXT\", exc_info=True)\n",
    "        error_message = str(error)\n",
    "        error_percentage = float(error_message.split(\"Mismatched elements: \")[1].split(\"%)\")[0].split(\"(\")[1])/100\n",
    "        \n",
    "        return error_percentage\n",
    "\n",
    "test(elementary_multiplication, A, B, n)"
   ]
  },
  {
   "cell_type": "code",
   "execution_count": 100,
   "metadata": {},
   "outputs": [],
   "source": [
    "def full_test(algorithm_to_be_tested, input_generator, n:int, iterations:int, in_place = False, power:int=None):\n",
    "    \n",
    "    for i in range(iterations):\n",
    "        A = input_generator(n, power)\n",
    "        B = input_generator(n, power)\n",
    "        if in_place == True:\n",
    "            test(algorithm_to_be_tested, A, B, C)\n",
    "        else:\n",
    "            test(algorithm_to_be_tested, A, B)\n",
    "        "
   ]
  },
  {
   "cell_type": "code",
   "execution_count": 101,
   "metadata": {},
   "outputs": [
    {
     "ename": "TypeError",
     "evalue": "full_test() missing 2 required positional arguments: 'n' and 'iterations'",
     "output_type": "error",
     "traceback": [
      "\u001b[0;31m---------------------------------------------------------------------------\u001b[0m",
      "\u001b[0;31mTypeError\u001b[0m                                 Traceback (most recent call last)",
      "\u001b[0;32m/tmp/ipykernel_19655/3327108463.py\u001b[0m in \u001b[0;36m<module>\u001b[0;34m\u001b[0m\n\u001b[0;32m----> 1\u001b[0;31m \u001b[0mfull_test\u001b[0m\u001b[0;34m(\u001b[0m\u001b[0mrecursive_multiplication_write_through\u001b[0m\u001b[0;34m,\u001b[0m \u001b[0mgenerate_input\u001b[0m\u001b[0;34m)\u001b[0m\u001b[0;34m\u001b[0m\u001b[0;34m\u001b[0m\u001b[0m\n\u001b[0m",
      "\u001b[0;31mTypeError\u001b[0m: full_test() missing 2 required positional arguments: 'n' and 'iterations'"
     ]
    }
   ],
   "source": [
    "full_test(recursive_multiplication_write_through, generate_input)"
   ]
  }
 ],
 "metadata": {
  "interpreter": {
   "hash": "98296c6fab1f2542c3ee1b453fe7ed304d5710b367ab83c3e921b0c6632a7bad"
  },
  "kernelspec": {
   "display_name": "Python 3.8.8 64-bit ('base': conda)",
   "language": "python",
   "name": "python3"
  },
  "language_info": {
   "codemirror_mode": {
    "name": "ipython",
    "version": 3
   },
   "file_extension": ".py",
   "mimetype": "text/x-python",
   "name": "python",
   "nbconvert_exporter": "python",
   "pygments_lexer": "ipython3",
   "version": "3.8.8"
  },
  "orig_nbformat": 4
 },
 "nbformat": 4,
 "nbformat_minor": 2
}
