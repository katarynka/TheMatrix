{
 "cells": [
  {
   "cell_type": "markdown",
   "metadata": {},
   "source": [
    "# Test on Extreme Inputs\n",
    "\n",
    "The following test section has the purpose is comprising tests that we expect to fail. This comprise tests that will show the limitation when working with floating point numbers. In particular this relates to testing for input values (x) in our matrices that exceed our limit of x < sqrt(2**53/n). Likewise, we test for very small numbers between 0.0-1.0 that include decimals beyond what we expect for floating point accuracy.\n",
    "\n",
    "#### 1) Test on Large Numbers: x > sqrt(2**53/n)\n",
    "\n",
    "#### 2) Test on Small Numbers: 0.0 < x < 1.0"
   ]
  },
  {
   "cell_type": "code",
   "execution_count": 289,
   "metadata": {},
   "outputs": [],
   "source": [
    "import sys\n",
    "sys.path.append(\"/home/gustavgyrst/Desktop/AA_Final/TheMatrix/\")\n",
    "from experiments import *\n",
    "from matrix_implementations import *\n",
    "import random\n",
    "import numpy as np\n",
    "import csv"
   ]
  },
  {
   "cell_type": "markdown",
   "metadata": {},
   "source": [
    "### Correct Input Generator (Following x < np.sqrt(2**(53)/n))"
   ]
  },
  {
   "cell_type": "code",
   "execution_count": 290,
   "metadata": {},
   "outputs": [],
   "source": [
    "def get_input_range(n):\n",
    "    lower_bound = 0\n",
    "    upper_bound = round(np.sqrt(2**(53)/n))\n",
    "    input_range = [lower_bound, upper_bound]\n",
    "    return input_range\n",
    "\n",
    "\n",
    "def generate_input(n: int) -> Matrix :\n",
    "    list= []\n",
    "    input_range = get_input_range(n)\n",
    "    for i in range(0,n*n):\n",
    "        l = random.randint(input_range[0],int(input_range[1]))\n",
    "        list.append(float(l))\n",
    "    return np.array(list).reshape(n,n)\n",
    "\n"
   ]
  },
  {
   "cell_type": "markdown",
   "metadata": {},
   "source": [
    "### Faulty Input Generator\n"
   ]
  },
  {
   "cell_type": "code",
   "execution_count": 340,
   "metadata": {},
   "outputs": [],
   "source": [
    "def too_large_input_range(n):\n",
    "    lower_bound = 0\n",
    "    upper_bound = round(np.sqrt(float(2**(60)/n)))\n",
    "    input_range = [lower_bound, upper_bound]\n",
    "    return input_range\n",
    "\n",
    "def generate_too_large_input(n):\n",
    "    list= []\n",
    "    input_range = too_large_input_range(n)\n",
    "    for i in range(0,n*n):\n",
    "        \n",
    "        l = random.randint(input_range[0],int(input_range[1]))\n",
    "        list.append(float(l))\n",
    "    return np.array(list).reshape(n,n)\n"
   ]
  },
  {
   "cell_type": "markdown",
   "metadata": {},
   "source": [
    "## Test Matrix Generation"
   ]
  },
  {
   "cell_type": "code",
   "execution_count": 355,
   "metadata": {},
   "outputs": [],
   "source": [
    "n = 64\n",
    "A = generate_too_large_input(n)\n",
    "B = generate_too_large_input(n)\n",
    "C = generate_too_large_input(n)\n"
   ]
  },
  {
   "cell_type": "code",
   "execution_count": 356,
   "metadata": {},
   "outputs": [],
   "source": [
    "A_within = generate_input(n)\n",
    "B_within = generate_input(n)"
   ]
  },
  {
   "cell_type": "code",
   "execution_count": 357,
   "metadata": {},
   "outputs": [],
   "source": [
    "np_res = np.matmul(A,B)\n",
    "res = elementary_multiplication(Matrix(n,n, A), Matrix(n,n,B))"
   ]
  },
  {
   "cell_type": "code",
   "execution_count": 358,
   "metadata": {},
   "outputs": [],
   "source": [
    "np_res_within = np.matmul(A_within,B_within)\n",
    "res_within = elementary_multiplication(Matrix(n,n, A_within), Matrix(n,n,B_within))"
   ]
  },
  {
   "cell_type": "code",
   "execution_count": 359,
   "metadata": {},
   "outputs": [],
   "source": [
    "#np.testing.assert_allclose(res.tolist(), np_res, 0.01, 0.05)\n"
   ]
  },
  {
   "cell_type": "code",
   "execution_count": 360,
   "metadata": {},
   "outputs": [],
   "source": [
    "np.testing.assert_equal(res_within.tolist(),np_res_within)"
   ]
  },
  {
   "cell_type": "code",
   "execution_count": 361,
   "metadata": {},
   "outputs": [
    {
     "ename": "AssertionError",
     "evalue": "\nArrays are not equal\n\nMismatched elements: 275 / 4096 (6.71%)\nMax absolute difference: 128.\nMax relative difference: 4.66908678e-16\n x: array([[2.934206e+17, 2.921623e+17, 2.419849e+17, ..., 3.024399e+17,\n        2.991637e+17, 2.917963e+17],\n       [3.121589e+17, 3.138965e+17, 2.730160e+17, ..., 3.031731e+17,...\n y: array([[2.934206e+17, 2.921623e+17, 2.419849e+17, ..., 3.024399e+17,\n        2.991637e+17, 2.917963e+17],\n       [3.121589e+17, 3.138965e+17, 2.730160e+17, ..., 3.031731e+17,...",
     "output_type": "error",
     "traceback": [
      "\u001b[0;31m---------------------------------------------------------------------------\u001b[0m",
      "\u001b[0;31mAssertionError\u001b[0m                            Traceback (most recent call last)",
      "\u001b[0;32m/tmp/ipykernel_10263/4260560875.py\u001b[0m in \u001b[0;36m<module>\u001b[0;34m\u001b[0m\n\u001b[0;32m----> 1\u001b[0;31m \u001b[0mnp\u001b[0m\u001b[0;34m.\u001b[0m\u001b[0mtesting\u001b[0m\u001b[0;34m.\u001b[0m\u001b[0massert_equal\u001b[0m\u001b[0;34m(\u001b[0m\u001b[0mres\u001b[0m\u001b[0;34m.\u001b[0m\u001b[0mtolist\u001b[0m\u001b[0;34m(\u001b[0m\u001b[0;34m)\u001b[0m\u001b[0;34m,\u001b[0m \u001b[0mnp_res\u001b[0m\u001b[0;34m)\u001b[0m\u001b[0;34m\u001b[0m\u001b[0;34m\u001b[0m\u001b[0m\n\u001b[0m",
      "    \u001b[0;31m[... skipping hidden 2 frame]\u001b[0m\n",
      "\u001b[0;32m~/.local/lib/python3.8/site-packages/numpy/testing/_private/utils.py\u001b[0m in \u001b[0;36massert_array_compare\u001b[0;34m(comparison, x, y, err_msg, verbose, header, precision, equal_nan, equal_inf)\u001b[0m\n\u001b[1;32m    842\u001b[0m                                 \u001b[0mverbose\u001b[0m\u001b[0;34m=\u001b[0m\u001b[0mverbose\u001b[0m\u001b[0;34m,\u001b[0m \u001b[0mheader\u001b[0m\u001b[0;34m=\u001b[0m\u001b[0mheader\u001b[0m\u001b[0;34m,\u001b[0m\u001b[0;34m\u001b[0m\u001b[0;34m\u001b[0m\u001b[0m\n\u001b[1;32m    843\u001b[0m                                 names=('x', 'y'), precision=precision)\n\u001b[0;32m--> 844\u001b[0;31m             \u001b[0;32mraise\u001b[0m \u001b[0mAssertionError\u001b[0m\u001b[0;34m(\u001b[0m\u001b[0mmsg\u001b[0m\u001b[0;34m)\u001b[0m\u001b[0;34m\u001b[0m\u001b[0;34m\u001b[0m\u001b[0m\n\u001b[0m\u001b[1;32m    845\u001b[0m     \u001b[0;32mexcept\u001b[0m \u001b[0mValueError\u001b[0m\u001b[0;34m:\u001b[0m\u001b[0;34m\u001b[0m\u001b[0;34m\u001b[0m\u001b[0m\n\u001b[1;32m    846\u001b[0m         \u001b[0;32mimport\u001b[0m \u001b[0mtraceback\u001b[0m\u001b[0;34m\u001b[0m\u001b[0;34m\u001b[0m\u001b[0m\n",
      "\u001b[0;31mAssertionError\u001b[0m: \nArrays are not equal\n\nMismatched elements: 275 / 4096 (6.71%)\nMax absolute difference: 128.\nMax relative difference: 4.66908678e-16\n x: array([[2.934206e+17, 2.921623e+17, 2.419849e+17, ..., 3.024399e+17,\n        2.991637e+17, 2.917963e+17],\n       [3.121589e+17, 3.138965e+17, 2.730160e+17, ..., 3.031731e+17,...\n y: array([[2.934206e+17, 2.921623e+17, 2.419849e+17, ..., 3.024399e+17,\n        2.991637e+17, 2.917963e+17],\n       [3.121589e+17, 3.138965e+17, 2.730160e+17, ..., 3.031731e+17,..."
     ]
    }
   ],
   "source": [
    "np.testing.assert_equal(res.tolist(), np_res)"
   ]
  }
 ],
 "metadata": {
  "interpreter": {
   "hash": "98296c6fab1f2542c3ee1b453fe7ed304d5710b367ab83c3e921b0c6632a7bad"
  },
  "kernelspec": {
   "display_name": "Python 3.8.8 64-bit ('base': conda)",
   "language": "python",
   "name": "python3"
  },
  "language_info": {
   "codemirror_mode": {
    "name": "ipython",
    "version": 3
   },
   "file_extension": ".py",
   "mimetype": "text/x-python",
   "name": "python",
   "nbconvert_exporter": "python",
   "pygments_lexer": "ipython3",
   "version": "3.8.8"
  },
  "orig_nbformat": 4
 },
 "nbformat": 4,
 "nbformat_minor": 2
}
