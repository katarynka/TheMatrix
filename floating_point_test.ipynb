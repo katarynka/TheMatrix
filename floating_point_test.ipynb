{
 "cells": [
  {
   "cell_type": "code",
   "execution_count": 7,
   "metadata": {},
   "outputs": [],
   "source": [
    "import sys\n",
    "sys.path.append(\"/home/gustavgyrst/Desktop/AA_Final/TheMatrix/\")\n",
    "from experiments import *\n",
    "from matrix_implementations import *\n",
    "import random\n",
    "import numpy as np"
   ]
  },
  {
   "cell_type": "markdown",
   "metadata": {},
   "source": [
    "# Input Generator"
   ]
  },
  {
   "cell_type": "code",
   "execution_count": 8,
   "metadata": {},
   "outputs": [],
   "source": [
    "def get_input_range(n):\n",
    "    lower_bound = 0\n",
    "    upper_bound = round(np.sqrt(2**(53)/n))\n",
    "    input_range = [lower_bound, upper_bound]\n",
    "    return input_range\n",
    "\n",
    "\n",
    "def generate_input(n: int) -> Matrix :\n",
    "    list= []\n",
    "    input_range = get_input_range(n)\n",
    "    for i in range(0,n*n):\n",
    "        random.seed(i+3)\n",
    "        l = random.randint(input_range[0],int(input_range[1]))\n",
    "        list.append(float(l))\n",
    "    return Matrix(n,n,np.array(list).reshape(n,n))\n",
    "\n"
   ]
  },
  {
   "cell_type": "markdown",
   "metadata": {},
   "source": [
    "# Faulty Input Generator\n"
   ]
  },
  {
   "cell_type": "code",
   "execution_count": 36,
   "metadata": {},
   "outputs": [],
   "source": [
    "def too_large_input_range(n):\n",
    "    lower_bound = 0\n",
    "    upper_bound = round(np.sqrt(2**(60)/n))\n",
    "    input_range = [lower_bound, upper_bound]\n",
    "    return input_range\n",
    "\n",
    "def generate_too_large_input(n):\n",
    "    list= []\n",
    "    input_range = too_large_input_range(n)\n",
    "    for i in range(0,n*n):\n",
    "        random.seed(i+3)\n",
    "        l = random.randint(input_range[0],int(input_range[1]))\n",
    "        list.append(float(l))\n",
    "    return np.array(list).reshape(n,n)\n"
   ]
  },
  {
   "cell_type": "code",
   "execution_count": 33,
   "metadata": {},
   "outputs": [],
   "source": [
    "def get_input_range(n):\n",
    "    lower_bound = 0\n",
    "    upper_bound = round(np.sqrt(2**(53)/n))\n",
    "    input_range = [lower_bound, upper_bound]\n",
    "    return input_range\n",
    "\n",
    "\n",
    "def generate_input(n: int) -> List[float] :\n",
    "    list= []\n",
    "    input_range = get_input_range(n)\n",
    "    for i in range(0,n*n):\n",
    "        random.seed(i+3)\n",
    "        l = random.randint(input_range[0],int(input_range[1]))\n",
    "        list.append(float(l))\n",
    "    return np.array(list).reshape(n,n)\n",
    "\n",
    "def generate_floatinput(n: int, step: float) -> List[float]:\n",
    "    list = []\n",
    "    input_range = get_input_range(n)\n",
    "    for i in range(0,n*n):\n",
    "        random.seed(i+3)\n",
    "        l = random.randint(input_range[0],int(input_range[1]))\n",
    "        list.append(float(l)+step)\n",
    "    return np.array(list).reshape(n,n)"
   ]
  },
  {
   "cell_type": "markdown",
   "metadata": {},
   "source": [
    "\n",
    "# Test Matrix Generation\n",
    "\n",
    "## 1. matrix"
   ]
  },
  {
   "cell_type": "code",
   "execution_count": 37,
   "metadata": {},
   "outputs": [],
   "source": [
    "A = generate_too_large_input(256)\n",
    "B = generate_too_large_input(256)\n",
    "C = generate_too_large_input(256)\n"
   ]
  },
  {
   "cell_type": "code",
   "execution_count": 35,
   "metadata": {},
   "outputs": [
    {
     "ename": "AttributeError",
     "evalue": "'numpy.ndarray' object has no attribute 'cols'",
     "output_type": "error",
     "traceback": [
      "\u001b[0;31m---------------------------------------------------------------------------\u001b[0m",
      "\u001b[0;31mAttributeError\u001b[0m                            Traceback (most recent call last)",
      "\u001b[0;32m/tmp/ipykernel_10263/1138925000.py\u001b[0m in \u001b[0;36m<module>\u001b[0;34m\u001b[0m\n\u001b[1;32m      1\u001b[0m \u001b[0mnp_res\u001b[0m \u001b[0;34m=\u001b[0m \u001b[0mnp\u001b[0m\u001b[0;34m.\u001b[0m\u001b[0mmatmul\u001b[0m\u001b[0;34m(\u001b[0m\u001b[0mA\u001b[0m\u001b[0;34m,\u001b[0m\u001b[0mB\u001b[0m\u001b[0;34m)\u001b[0m\u001b[0;34m\u001b[0m\u001b[0;34m\u001b[0m\u001b[0m\n\u001b[0;32m----> 2\u001b[0;31m \u001b[0mres\u001b[0m \u001b[0;34m=\u001b[0m \u001b[0melementary_multiplication\u001b[0m\u001b[0;34m(\u001b[0m\u001b[0mA\u001b[0m\u001b[0;34m,\u001b[0m\u001b[0mB\u001b[0m\u001b[0;34m)\u001b[0m\u001b[0;34m\u001b[0m\u001b[0;34m\u001b[0m\u001b[0m\n\u001b[0m",
      "\u001b[0;32m~/Desktop/AA_Final/TheMatrix/matrix_implementations.py\u001b[0m in \u001b[0;36melementary_multiplication\u001b[0;34m(A, B)\u001b[0m\n\u001b[1;32m    180\u001b[0m \u001b[0;34m\u001b[0m\u001b[0m\n\u001b[1;32m    181\u001b[0m \u001b[0;32mdef\u001b[0m \u001b[0melementary_multiplication\u001b[0m\u001b[0;34m(\u001b[0m\u001b[0mA\u001b[0m\u001b[0;34m:\u001b[0m \u001b[0mMatrix\u001b[0m\u001b[0;34m,\u001b[0m \u001b[0mB\u001b[0m\u001b[0;34m:\u001b[0m \u001b[0mMatrix\u001b[0m\u001b[0;34m)\u001b[0m\u001b[0;34m->\u001b[0m\u001b[0mMatrix\u001b[0m\u001b[0;34m:\u001b[0m\u001b[0;34m\u001b[0m\u001b[0;34m\u001b[0m\u001b[0m\n\u001b[0;32m--> 182\u001b[0;31m     \u001b[0mn\u001b[0m \u001b[0;34m=\u001b[0m \u001b[0mA\u001b[0m\u001b[0;34m.\u001b[0m\u001b[0mcols\u001b[0m\u001b[0;34m(\u001b[0m\u001b[0;34m)\u001b[0m\u001b[0;34m\u001b[0m\u001b[0;34m\u001b[0m\u001b[0m\n\u001b[0m\u001b[1;32m    183\u001b[0m     \u001b[0mC\u001b[0m \u001b[0;34m=\u001b[0m \u001b[0mMatrix\u001b[0m\u001b[0;34m(\u001b[0m\u001b[0mn\u001b[0m\u001b[0;34m,\u001b[0m\u001b[0mn\u001b[0m\u001b[0;34m)\u001b[0m\u001b[0;34m\u001b[0m\u001b[0;34m\u001b[0m\u001b[0m\n\u001b[1;32m    184\u001b[0m     \u001b[0;32mfor\u001b[0m \u001b[0mi\u001b[0m \u001b[0;32min\u001b[0m \u001b[0mrange\u001b[0m\u001b[0;34m(\u001b[0m\u001b[0mn\u001b[0m\u001b[0;34m)\u001b[0m\u001b[0;34m:\u001b[0m\u001b[0;34m\u001b[0m\u001b[0;34m\u001b[0m\u001b[0m\n",
      "\u001b[0;31mAttributeError\u001b[0m: 'numpy.ndarray' object has no attribute 'cols'"
     ]
    }
   ],
   "source": [
    "np_res = np.matmul(A,B)\n",
    "res = elementary_multiplication(A,B)"
   ]
  }
 ],
 "metadata": {
  "interpreter": {
   "hash": "98296c6fab1f2542c3ee1b453fe7ed304d5710b367ab83c3e921b0c6632a7bad"
  },
  "kernelspec": {
   "display_name": "Python 3.8.8 64-bit ('base': conda)",
   "language": "python",
   "name": "python3"
  },
  "language_info": {
   "codemirror_mode": {
    "name": "ipython",
    "version": 3
   },
   "file_extension": ".py",
   "mimetype": "text/x-python",
   "name": "python",
   "nbconvert_exporter": "python",
   "pygments_lexer": "ipython3",
   "version": "3.8.8"
  },
  "orig_nbformat": 4
 },
 "nbformat": 4,
 "nbformat_minor": 2
}
